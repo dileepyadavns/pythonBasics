{
  "nbformat": 4,
  "nbformat_minor": 0,
  "metadata": {
    "colab": {
      "name": "pandasTask.ipynb",
      "provenance": [],
      "collapsed_sections": []
    },
    "kernelspec": {
      "name": "python3",
      "display_name": "Python 3"
    },
    "language_info": {
      "name": "python"
    }
  },
  "cells": [
    {
      "cell_type": "code",
      "execution_count": 357,
      "metadata": {
        "id": "Ndbv_TERx3K6"
      },
      "outputs": [],
      "source": [
        "import pandas as pd\n",
        "import numpy as np"
      ]
    },
    {
      "cell_type": "markdown",
      "source": [
        "Reading the csv \n"
      ],
      "metadata": {
        "id": "gPMi8bddyVJA"
      }
    },
    {
      "cell_type": "code",
      "source": [
        "df=pd.read_csv(\"/content/purchase_data.csv\")"
      ],
      "metadata": {
        "id": "99Tucqs_yF-W"
      },
      "execution_count": 358,
      "outputs": []
    },
    {
      "cell_type": "code",
      "source": [
        "df=df.sort_values(by='Age')"
      ],
      "metadata": {
        "id": "Vr6Cl5N-5vyc"
      },
      "execution_count": 359,
      "outputs": []
    },
    {
      "cell_type": "code",
      "source": [
        "df"
      ],
      "metadata": {
        "colab": {
          "base_uri": "https://localhost:8080/",
          "height": 424
        },
        "id": "zgWt9I1y54iK",
        "outputId": "0da27750-8205-4085-868f-fbe517a43b19"
      },
      "execution_count": 360,
      "outputs": [
        {
          "output_type": "execute_result",
          "data": {
            "text/plain": [
              "     Purchase ID            SN  Age  Gender  Item ID  \\\n",
              "33            33  Haillyrgue51    7    Male       44   \n",
              "778          778       Sisur91    7    Male      101   \n",
              "446          446  Chanossast57    7  Female      119   \n",
              "515          515  Haillyrgue51    7    Male       40   \n",
              "658          658    Quilassa66    7  Female      178   \n",
              "..           ...           ...  ...     ...      ...   \n",
              "557          557    Frichaya88   42    Male        8   \n",
              "674          674       Aeral68   43    Male       77   \n",
              "248          248    Isursuir31   44    Male      137   \n",
              "728          728  Chanosiaya39   44    Male       93   \n",
              "761          761       Assim27   45    Male       17   \n",
              "\n",
              "                                        Item Name  Price  \n",
              "33                          Bonecarvin Battle Axe   2.38  \n",
              "778                                  Final Critic   4.19  \n",
              "446     Stormbringer, Dark Blade of Ending Misery   4.32  \n",
              "515                                 Second Chance   2.52  \n",
              "658  Oathbreaker, Last Hope of the Breaking Storm   4.23  \n",
              "..                                            ...    ...  \n",
              "557                      Purgatory, Gem of Regret   3.93  \n",
              "674                    Piety, Guardian of Riddles   4.00  \n",
              "248                Aetherius, Boon of the Blessed   3.39  \n",
              "728                      Apocalyptic Battlescythe   1.97  \n",
              "761                  Lazarus, Terror of the Earth   1.70  \n",
              "\n",
              "[780 rows x 7 columns]"
            ],
            "text/html": [
              "\n",
              "  <div id=\"df-568f4339-0e1b-49ec-8c0d-1950fceaf3a6\">\n",
              "    <div class=\"colab-df-container\">\n",
              "      <div>\n",
              "<style scoped>\n",
              "    .dataframe tbody tr th:only-of-type {\n",
              "        vertical-align: middle;\n",
              "    }\n",
              "\n",
              "    .dataframe tbody tr th {\n",
              "        vertical-align: top;\n",
              "    }\n",
              "\n",
              "    .dataframe thead th {\n",
              "        text-align: right;\n",
              "    }\n",
              "</style>\n",
              "<table border=\"1\" class=\"dataframe\">\n",
              "  <thead>\n",
              "    <tr style=\"text-align: right;\">\n",
              "      <th></th>\n",
              "      <th>Purchase ID</th>\n",
              "      <th>SN</th>\n",
              "      <th>Age</th>\n",
              "      <th>Gender</th>\n",
              "      <th>Item ID</th>\n",
              "      <th>Item Name</th>\n",
              "      <th>Price</th>\n",
              "    </tr>\n",
              "  </thead>\n",
              "  <tbody>\n",
              "    <tr>\n",
              "      <th>33</th>\n",
              "      <td>33</td>\n",
              "      <td>Haillyrgue51</td>\n",
              "      <td>7</td>\n",
              "      <td>Male</td>\n",
              "      <td>44</td>\n",
              "      <td>Bonecarvin Battle Axe</td>\n",
              "      <td>2.38</td>\n",
              "    </tr>\n",
              "    <tr>\n",
              "      <th>778</th>\n",
              "      <td>778</td>\n",
              "      <td>Sisur91</td>\n",
              "      <td>7</td>\n",
              "      <td>Male</td>\n",
              "      <td>101</td>\n",
              "      <td>Final Critic</td>\n",
              "      <td>4.19</td>\n",
              "    </tr>\n",
              "    <tr>\n",
              "      <th>446</th>\n",
              "      <td>446</td>\n",
              "      <td>Chanossast57</td>\n",
              "      <td>7</td>\n",
              "      <td>Female</td>\n",
              "      <td>119</td>\n",
              "      <td>Stormbringer, Dark Blade of Ending Misery</td>\n",
              "      <td>4.32</td>\n",
              "    </tr>\n",
              "    <tr>\n",
              "      <th>515</th>\n",
              "      <td>515</td>\n",
              "      <td>Haillyrgue51</td>\n",
              "      <td>7</td>\n",
              "      <td>Male</td>\n",
              "      <td>40</td>\n",
              "      <td>Second Chance</td>\n",
              "      <td>2.52</td>\n",
              "    </tr>\n",
              "    <tr>\n",
              "      <th>658</th>\n",
              "      <td>658</td>\n",
              "      <td>Quilassa66</td>\n",
              "      <td>7</td>\n",
              "      <td>Female</td>\n",
              "      <td>178</td>\n",
              "      <td>Oathbreaker, Last Hope of the Breaking Storm</td>\n",
              "      <td>4.23</td>\n",
              "    </tr>\n",
              "    <tr>\n",
              "      <th>...</th>\n",
              "      <td>...</td>\n",
              "      <td>...</td>\n",
              "      <td>...</td>\n",
              "      <td>...</td>\n",
              "      <td>...</td>\n",
              "      <td>...</td>\n",
              "      <td>...</td>\n",
              "    </tr>\n",
              "    <tr>\n",
              "      <th>557</th>\n",
              "      <td>557</td>\n",
              "      <td>Frichaya88</td>\n",
              "      <td>42</td>\n",
              "      <td>Male</td>\n",
              "      <td>8</td>\n",
              "      <td>Purgatory, Gem of Regret</td>\n",
              "      <td>3.93</td>\n",
              "    </tr>\n",
              "    <tr>\n",
              "      <th>674</th>\n",
              "      <td>674</td>\n",
              "      <td>Aeral68</td>\n",
              "      <td>43</td>\n",
              "      <td>Male</td>\n",
              "      <td>77</td>\n",
              "      <td>Piety, Guardian of Riddles</td>\n",
              "      <td>4.00</td>\n",
              "    </tr>\n",
              "    <tr>\n",
              "      <th>248</th>\n",
              "      <td>248</td>\n",
              "      <td>Isursuir31</td>\n",
              "      <td>44</td>\n",
              "      <td>Male</td>\n",
              "      <td>137</td>\n",
              "      <td>Aetherius, Boon of the Blessed</td>\n",
              "      <td>3.39</td>\n",
              "    </tr>\n",
              "    <tr>\n",
              "      <th>728</th>\n",
              "      <td>728</td>\n",
              "      <td>Chanosiaya39</td>\n",
              "      <td>44</td>\n",
              "      <td>Male</td>\n",
              "      <td>93</td>\n",
              "      <td>Apocalyptic Battlescythe</td>\n",
              "      <td>1.97</td>\n",
              "    </tr>\n",
              "    <tr>\n",
              "      <th>761</th>\n",
              "      <td>761</td>\n",
              "      <td>Assim27</td>\n",
              "      <td>45</td>\n",
              "      <td>Male</td>\n",
              "      <td>17</td>\n",
              "      <td>Lazarus, Terror of the Earth</td>\n",
              "      <td>1.70</td>\n",
              "    </tr>\n",
              "  </tbody>\n",
              "</table>\n",
              "<p>780 rows × 7 columns</p>\n",
              "</div>\n",
              "      <button class=\"colab-df-convert\" onclick=\"convertToInteractive('df-568f4339-0e1b-49ec-8c0d-1950fceaf3a6')\"\n",
              "              title=\"Convert this dataframe to an interactive table.\"\n",
              "              style=\"display:none;\">\n",
              "        \n",
              "  <svg xmlns=\"http://www.w3.org/2000/svg\" height=\"24px\"viewBox=\"0 0 24 24\"\n",
              "       width=\"24px\">\n",
              "    <path d=\"M0 0h24v24H0V0z\" fill=\"none\"/>\n",
              "    <path d=\"M18.56 5.44l.94 2.06.94-2.06 2.06-.94-2.06-.94-.94-2.06-.94 2.06-2.06.94zm-11 1L8.5 8.5l.94-2.06 2.06-.94-2.06-.94L8.5 2.5l-.94 2.06-2.06.94zm10 10l.94 2.06.94-2.06 2.06-.94-2.06-.94-.94-2.06-.94 2.06-2.06.94z\"/><path d=\"M17.41 7.96l-1.37-1.37c-.4-.4-.92-.59-1.43-.59-.52 0-1.04.2-1.43.59L10.3 9.45l-7.72 7.72c-.78.78-.78 2.05 0 2.83L4 21.41c.39.39.9.59 1.41.59.51 0 1.02-.2 1.41-.59l7.78-7.78 2.81-2.81c.8-.78.8-2.07 0-2.86zM5.41 20L4 18.59l7.72-7.72 1.47 1.35L5.41 20z\"/>\n",
              "  </svg>\n",
              "      </button>\n",
              "      \n",
              "  <style>\n",
              "    .colab-df-container {\n",
              "      display:flex;\n",
              "      flex-wrap:wrap;\n",
              "      gap: 12px;\n",
              "    }\n",
              "\n",
              "    .colab-df-convert {\n",
              "      background-color: #E8F0FE;\n",
              "      border: none;\n",
              "      border-radius: 50%;\n",
              "      cursor: pointer;\n",
              "      display: none;\n",
              "      fill: #1967D2;\n",
              "      height: 32px;\n",
              "      padding: 0 0 0 0;\n",
              "      width: 32px;\n",
              "    }\n",
              "\n",
              "    .colab-df-convert:hover {\n",
              "      background-color: #E2EBFA;\n",
              "      box-shadow: 0px 1px 2px rgba(60, 64, 67, 0.3), 0px 1px 3px 1px rgba(60, 64, 67, 0.15);\n",
              "      fill: #174EA6;\n",
              "    }\n",
              "\n",
              "    [theme=dark] .colab-df-convert {\n",
              "      background-color: #3B4455;\n",
              "      fill: #D2E3FC;\n",
              "    }\n",
              "\n",
              "    [theme=dark] .colab-df-convert:hover {\n",
              "      background-color: #434B5C;\n",
              "      box-shadow: 0px 1px 3px 1px rgba(0, 0, 0, 0.15);\n",
              "      filter: drop-shadow(0px 1px 2px rgba(0, 0, 0, 0.3));\n",
              "      fill: #FFFFFF;\n",
              "    }\n",
              "  </style>\n",
              "\n",
              "      <script>\n",
              "        const buttonEl =\n",
              "          document.querySelector('#df-568f4339-0e1b-49ec-8c0d-1950fceaf3a6 button.colab-df-convert');\n",
              "        buttonEl.style.display =\n",
              "          google.colab.kernel.accessAllowed ? 'block' : 'none';\n",
              "\n",
              "        async function convertToInteractive(key) {\n",
              "          const element = document.querySelector('#df-568f4339-0e1b-49ec-8c0d-1950fceaf3a6');\n",
              "          const dataTable =\n",
              "            await google.colab.kernel.invokeFunction('convertToInteractive',\n",
              "                                                     [key], {});\n",
              "          if (!dataTable) return;\n",
              "\n",
              "          const docLinkHtml = 'Like what you see? Visit the ' +\n",
              "            '<a target=\"_blank\" href=https://colab.research.google.com/notebooks/data_table.ipynb>data table notebook</a>'\n",
              "            + ' to learn more about interactive tables.';\n",
              "          element.innerHTML = '';\n",
              "          dataTable['output_type'] = 'display_data';\n",
              "          await google.colab.output.renderOutput(dataTable, element);\n",
              "          const docLink = document.createElement('div');\n",
              "          docLink.innerHTML = docLinkHtml;\n",
              "          element.appendChild(docLink);\n",
              "        }\n",
              "      </script>\n",
              "    </div>\n",
              "  </div>\n",
              "  "
            ]
          },
          "metadata": {},
          "execution_count": 360
        }
      ]
    },
    {
      "cell_type": "code",
      "source": [
        "df['Age'].max()"
      ],
      "metadata": {
        "colab": {
          "base_uri": "https://localhost:8080/"
        },
        "id": "9GRG6OI88bhF",
        "outputId": "bd0d4fb1-55c4-4a68-ee20-2a62772cb1f5"
      },
      "execution_count": 361,
      "outputs": [
        {
          "output_type": "execute_result",
          "data": {
            "text/plain": [
              "45"
            ]
          },
          "metadata": {},
          "execution_count": 361
        }
      ]
    },
    {
      "cell_type": "code",
      "source": [
        "df['Age'].min()"
      ],
      "metadata": {
        "colab": {
          "base_uri": "https://localhost:8080/"
        },
        "id": "VC4sbIjwE5-n",
        "outputId": "b5c104d7-e024-4159-c678-277799e8343c"
      },
      "execution_count": 362,
      "outputs": [
        {
          "output_type": "execute_result",
          "data": {
            "text/plain": [
              "7"
            ]
          },
          "metadata": {},
          "execution_count": 362
        }
      ]
    },
    {
      "cell_type": "code",
      "source": [
        "list1=np.arange(6,50,4).tolist()"
      ],
      "metadata": {
        "id": "gMvqR-_1FHcD"
      },
      "execution_count": 363,
      "outputs": []
    },
    {
      "cell_type": "code",
      "source": [
        "print(list1)"
      ],
      "metadata": {
        "colab": {
          "base_uri": "https://localhost:8080/"
        },
        "id": "iZM_b1FTDKzi",
        "outputId": "d317fc6a-cdeb-439e-c9fa-aa6136a5dc6f"
      },
      "execution_count": 364,
      "outputs": [
        {
          "output_type": "stream",
          "name": "stdout",
          "text": [
            "[6, 10, 14, 18, 22, 26, 30, 34, 38, 42, 46]\n"
          ]
        }
      ]
    },
    {
      "cell_type": "code",
      "source": [
        "\n",
        "df['bins'] = pd.cut(x=df['Age'], bins=list1)\n",
        "print(df)\n",
        " \n"
      ],
      "metadata": {
        "colab": {
          "base_uri": "https://localhost:8080/"
        },
        "id": "wA1dRP8-39-K",
        "outputId": "8d99e25d-441e-48d0-bfdb-a5f7b82fd978"
      },
      "execution_count": 365,
      "outputs": [
        {
          "output_type": "stream",
          "name": "stdout",
          "text": [
            "     Purchase ID            SN  Age  Gender  Item ID  \\\n",
            "33            33  Haillyrgue51    7    Male       44   \n",
            "778          778       Sisur91    7    Male      101   \n",
            "446          446  Chanossast57    7  Female      119   \n",
            "515          515  Haillyrgue51    7    Male       40   \n",
            "658          658    Quilassa66    7  Female      178   \n",
            "..           ...           ...  ...     ...      ...   \n",
            "557          557    Frichaya88   42    Male        8   \n",
            "674          674       Aeral68   43    Male       77   \n",
            "248          248    Isursuir31   44    Male      137   \n",
            "728          728  Chanosiaya39   44    Male       93   \n",
            "761          761       Assim27   45    Male       17   \n",
            "\n",
            "                                        Item Name  Price      bins  \n",
            "33                          Bonecarvin Battle Axe   2.38   (6, 10]  \n",
            "778                                  Final Critic   4.19   (6, 10]  \n",
            "446     Stormbringer, Dark Blade of Ending Misery   4.32   (6, 10]  \n",
            "515                                 Second Chance   2.52   (6, 10]  \n",
            "658  Oathbreaker, Last Hope of the Breaking Storm   4.23   (6, 10]  \n",
            "..                                            ...    ...       ...  \n",
            "557                      Purgatory, Gem of Regret   3.93  (38, 42]  \n",
            "674                    Piety, Guardian of Riddles   4.00  (42, 46]  \n",
            "248                Aetherius, Boon of the Blessed   3.39  (42, 46]  \n",
            "728                      Apocalyptic Battlescythe   1.97  (42, 46]  \n",
            "761                  Lazarus, Terror of the Earth   1.70  (42, 46]  \n",
            "\n",
            "[780 rows x 8 columns]\n"
          ]
        }
      ]
    },
    {
      "cell_type": "code",
      "source": [
        "counts=df.value_counts('bins')  #Purchase count for Each group\n",
        "print(counts)"
      ],
      "metadata": {
        "colab": {
          "base_uri": "https://localhost:8080/"
        },
        "id": "DLrB7bg6STGl",
        "outputId": "6b3221de-1fc8-4a6d-d879-e2ecc2e458c7"
      },
      "execution_count": 366,
      "outputs": [
        {
          "output_type": "stream",
          "name": "stdout",
          "text": [
            "bins\n",
            "(18, 22]    254\n",
            "(22, 26]    207\n",
            "(14, 18]    113\n",
            "(26, 30]     63\n",
            "(30, 34]     38\n",
            "(34, 38]     35\n",
            "(6, 10]      32\n",
            "(10, 14]     19\n",
            "(38, 42]     15\n",
            "(42, 46]      4\n",
            "dtype: int64\n"
          ]
        }
      ]
    },
    {
      "cell_type": "code",
      "source": [
        "df['bins'].value_counts()"
      ],
      "metadata": {
        "colab": {
          "base_uri": "https://localhost:8080/"
        },
        "id": "nkScG1A6YeuY",
        "outputId": "5d8d4d34-fe7b-48ea-bc15-fd169f18d968"
      },
      "execution_count": 367,
      "outputs": [
        {
          "output_type": "execute_result",
          "data": {
            "text/plain": [
              "(18, 22]    254\n",
              "(22, 26]    207\n",
              "(14, 18]    113\n",
              "(26, 30]     63\n",
              "(30, 34]     38\n",
              "(34, 38]     35\n",
              "(6, 10]      32\n",
              "(10, 14]     19\n",
              "(38, 42]     15\n",
              "(42, 46]      4\n",
              "Name: bins, dtype: int64"
            ]
          },
          "metadata": {},
          "execution_count": 367
        }
      ]
    },
    {
      "cell_type": "code",
      "source": [
        "fstbin = df['bins']==pd.Interval(left=6,right=10)"
      ],
      "metadata": {
        "id": "zef_8tijZkpI"
      },
      "execution_count": 368,
      "outputs": []
    },
    {
      "cell_type": "code",
      "source": [
        "df[fstbin]"
      ],
      "metadata": {
        "colab": {
          "base_uri": "https://localhost:8080/",
          "height": 1000
        },
        "id": "JHiKJUhnbMX_",
        "outputId": "3752f470-47aa-4229-8f6b-15db53aba3d2"
      },
      "execution_count": 369,
      "outputs": [
        {
          "output_type": "execute_result",
          "data": {
            "text/plain": [
              "     Purchase ID             SN  Age  Gender  Item ID  \\\n",
              "33            33   Haillyrgue51    7    Male       44   \n",
              "778          778        Sisur91    7    Male      101   \n",
              "446          446   Chanossast57    7  Female      119   \n",
              "515          515   Haillyrgue51    7    Male       40   \n",
              "658          658     Quilassa66    7  Female      178   \n",
              "27            27        Eusri44    7    Male       96   \n",
              "610          610  Frichossala54    7    Male      159   \n",
              "481          481     Sondossa69    7    Male      179   \n",
              "78            78   Haillyrgue51    7    Male       50   \n",
              "81            81       Heudai45    8  Female      174   \n",
              "37            37      Seuthep89    8    Male       73   \n",
              "767          767        Ilmol66    8  Female       92   \n",
              "311          311   Anallorgue57    8    Male       71   \n",
              "272          272   Anallorgue57    8    Male      133   \n",
              "339          339        Ilmol66    8  Female      124   \n",
              "187          187     Tyeurith29    8    Male       11   \n",
              "686          686     Chadjask77    8    Male      147   \n",
              "486          486   Eurithphos97    9    Male       53   \n",
              "692          692    Quaecjask96    9    Male       78   \n",
              "575          575     Sondadar26    9    Male      137   \n",
              "732          732   Eurithphos97    9    Male       97   \n",
              "672          672      Ililsan66    9    Male      122   \n",
              "546          546     Sondadar26    9    Male      159   \n",
              "679          679      Iarilis73   10    Male      153   \n",
              "38            38       Reulae52   10  Female      116   \n",
              "54            54     Zhisrisu83   10    Male       25   \n",
              "424          424      Iarilis73   10    Male      149   \n",
              "32            32     Aeralria27   10    Male      133   \n",
              "411          411       Lisico81   10    Male      101   \n",
              "155          155     Aillyrin83   10  Female       98   \n",
              "534          534         Iana95   10    Male      146   \n",
              "141          141     Zhisrisu83   10    Male       60   \n",
              "\n",
              "                                        Item Name  Price     bins  \n",
              "33                          Bonecarvin Battle Axe   2.38  (6, 10]  \n",
              "778                                  Final Critic   4.19  (6, 10]  \n",
              "446     Stormbringer, Dark Blade of Ending Misery   4.32  (6, 10]  \n",
              "515                                 Second Chance   2.52  (6, 10]  \n",
              "658  Oathbreaker, Last Hope of the Breaking Storm   4.23  (6, 10]  \n",
              "27                    Blood-Forged Skeletal Spine   3.09  (6, 10]  \n",
              "610             Oathbreaker, Spellblade of Trials   3.08  (6, 10]  \n",
              "481               Wolf, Promise of the Moonwalker   4.48  (6, 10]  \n",
              "78                                           Dawn   4.60  (6, 10]  \n",
              "81                                Primitive Blade   3.47  (6, 10]  \n",
              "37                                    Ritual Mace   2.05  (6, 10]  \n",
              "767                                  Final Critic   4.88  (6, 10]  \n",
              "311                                        Demise   1.61  (6, 10]  \n",
              "272                              Faith's Scimitar   4.09  (6, 10]  \n",
              "339                                Venom Claymore   1.29  (6, 10]  \n",
              "187                                     Brimstone   3.65  (6, 10]  \n",
              "686             Hellreaver, Heirloom of Inception   4.93  (6, 10]  \n",
              "486                             Vengeance Cleaver   2.05  (6, 10]  \n",
              "692                    Glimmer, Ender of the Moon   4.40  (6, 10]  \n",
              "575                Aetherius, Boon of the Blessed   3.39  (6, 10]  \n",
              "732                   Swan Song, Gouger Of Terror   2.50  (6, 10]  \n",
              "672                              Unending Tyranny   2.85  (6, 10]  \n",
              "546             Oathbreaker, Spellblade of Trials   3.08  (6, 10]  \n",
              "679                               Mercenary Sabre   3.74  (6, 10]  \n",
              "38                        Renewed Skeletal Katana   4.18  (6, 10]  \n",
              "54                                      Hero Cane   4.35  (6, 10]  \n",
              "424             Tranquility, Razor of Black Magic   1.75  (6, 10]  \n",
              "32                               Faith's Scimitar   4.09  (6, 10]  \n",
              "411                                  Final Critic   4.19  (6, 10]  \n",
              "155                   Deadline, Voice Of Subtlety   2.89  (6, 10]  \n",
              "534                          Warped Iron Scimitar   3.10  (6, 10]  \n",
              "141                                          Wolf   3.54  (6, 10]  "
            ],
            "text/html": [
              "\n",
              "  <div id=\"df-b2a42b88-e16c-4094-bc29-df985cfb49d5\">\n",
              "    <div class=\"colab-df-container\">\n",
              "      <div>\n",
              "<style scoped>\n",
              "    .dataframe tbody tr th:only-of-type {\n",
              "        vertical-align: middle;\n",
              "    }\n",
              "\n",
              "    .dataframe tbody tr th {\n",
              "        vertical-align: top;\n",
              "    }\n",
              "\n",
              "    .dataframe thead th {\n",
              "        text-align: right;\n",
              "    }\n",
              "</style>\n",
              "<table border=\"1\" class=\"dataframe\">\n",
              "  <thead>\n",
              "    <tr style=\"text-align: right;\">\n",
              "      <th></th>\n",
              "      <th>Purchase ID</th>\n",
              "      <th>SN</th>\n",
              "      <th>Age</th>\n",
              "      <th>Gender</th>\n",
              "      <th>Item ID</th>\n",
              "      <th>Item Name</th>\n",
              "      <th>Price</th>\n",
              "      <th>bins</th>\n",
              "    </tr>\n",
              "  </thead>\n",
              "  <tbody>\n",
              "    <tr>\n",
              "      <th>33</th>\n",
              "      <td>33</td>\n",
              "      <td>Haillyrgue51</td>\n",
              "      <td>7</td>\n",
              "      <td>Male</td>\n",
              "      <td>44</td>\n",
              "      <td>Bonecarvin Battle Axe</td>\n",
              "      <td>2.38</td>\n",
              "      <td>(6, 10]</td>\n",
              "    </tr>\n",
              "    <tr>\n",
              "      <th>778</th>\n",
              "      <td>778</td>\n",
              "      <td>Sisur91</td>\n",
              "      <td>7</td>\n",
              "      <td>Male</td>\n",
              "      <td>101</td>\n",
              "      <td>Final Critic</td>\n",
              "      <td>4.19</td>\n",
              "      <td>(6, 10]</td>\n",
              "    </tr>\n",
              "    <tr>\n",
              "      <th>446</th>\n",
              "      <td>446</td>\n",
              "      <td>Chanossast57</td>\n",
              "      <td>7</td>\n",
              "      <td>Female</td>\n",
              "      <td>119</td>\n",
              "      <td>Stormbringer, Dark Blade of Ending Misery</td>\n",
              "      <td>4.32</td>\n",
              "      <td>(6, 10]</td>\n",
              "    </tr>\n",
              "    <tr>\n",
              "      <th>515</th>\n",
              "      <td>515</td>\n",
              "      <td>Haillyrgue51</td>\n",
              "      <td>7</td>\n",
              "      <td>Male</td>\n",
              "      <td>40</td>\n",
              "      <td>Second Chance</td>\n",
              "      <td>2.52</td>\n",
              "      <td>(6, 10]</td>\n",
              "    </tr>\n",
              "    <tr>\n",
              "      <th>658</th>\n",
              "      <td>658</td>\n",
              "      <td>Quilassa66</td>\n",
              "      <td>7</td>\n",
              "      <td>Female</td>\n",
              "      <td>178</td>\n",
              "      <td>Oathbreaker, Last Hope of the Breaking Storm</td>\n",
              "      <td>4.23</td>\n",
              "      <td>(6, 10]</td>\n",
              "    </tr>\n",
              "    <tr>\n",
              "      <th>27</th>\n",
              "      <td>27</td>\n",
              "      <td>Eusri44</td>\n",
              "      <td>7</td>\n",
              "      <td>Male</td>\n",
              "      <td>96</td>\n",
              "      <td>Blood-Forged Skeletal Spine</td>\n",
              "      <td>3.09</td>\n",
              "      <td>(6, 10]</td>\n",
              "    </tr>\n",
              "    <tr>\n",
              "      <th>610</th>\n",
              "      <td>610</td>\n",
              "      <td>Frichossala54</td>\n",
              "      <td>7</td>\n",
              "      <td>Male</td>\n",
              "      <td>159</td>\n",
              "      <td>Oathbreaker, Spellblade of Trials</td>\n",
              "      <td>3.08</td>\n",
              "      <td>(6, 10]</td>\n",
              "    </tr>\n",
              "    <tr>\n",
              "      <th>481</th>\n",
              "      <td>481</td>\n",
              "      <td>Sondossa69</td>\n",
              "      <td>7</td>\n",
              "      <td>Male</td>\n",
              "      <td>179</td>\n",
              "      <td>Wolf, Promise of the Moonwalker</td>\n",
              "      <td>4.48</td>\n",
              "      <td>(6, 10]</td>\n",
              "    </tr>\n",
              "    <tr>\n",
              "      <th>78</th>\n",
              "      <td>78</td>\n",
              "      <td>Haillyrgue51</td>\n",
              "      <td>7</td>\n",
              "      <td>Male</td>\n",
              "      <td>50</td>\n",
              "      <td>Dawn</td>\n",
              "      <td>4.60</td>\n",
              "      <td>(6, 10]</td>\n",
              "    </tr>\n",
              "    <tr>\n",
              "      <th>81</th>\n",
              "      <td>81</td>\n",
              "      <td>Heudai45</td>\n",
              "      <td>8</td>\n",
              "      <td>Female</td>\n",
              "      <td>174</td>\n",
              "      <td>Primitive Blade</td>\n",
              "      <td>3.47</td>\n",
              "      <td>(6, 10]</td>\n",
              "    </tr>\n",
              "    <tr>\n",
              "      <th>37</th>\n",
              "      <td>37</td>\n",
              "      <td>Seuthep89</td>\n",
              "      <td>8</td>\n",
              "      <td>Male</td>\n",
              "      <td>73</td>\n",
              "      <td>Ritual Mace</td>\n",
              "      <td>2.05</td>\n",
              "      <td>(6, 10]</td>\n",
              "    </tr>\n",
              "    <tr>\n",
              "      <th>767</th>\n",
              "      <td>767</td>\n",
              "      <td>Ilmol66</td>\n",
              "      <td>8</td>\n",
              "      <td>Female</td>\n",
              "      <td>92</td>\n",
              "      <td>Final Critic</td>\n",
              "      <td>4.88</td>\n",
              "      <td>(6, 10]</td>\n",
              "    </tr>\n",
              "    <tr>\n",
              "      <th>311</th>\n",
              "      <td>311</td>\n",
              "      <td>Anallorgue57</td>\n",
              "      <td>8</td>\n",
              "      <td>Male</td>\n",
              "      <td>71</td>\n",
              "      <td>Demise</td>\n",
              "      <td>1.61</td>\n",
              "      <td>(6, 10]</td>\n",
              "    </tr>\n",
              "    <tr>\n",
              "      <th>272</th>\n",
              "      <td>272</td>\n",
              "      <td>Anallorgue57</td>\n",
              "      <td>8</td>\n",
              "      <td>Male</td>\n",
              "      <td>133</td>\n",
              "      <td>Faith's Scimitar</td>\n",
              "      <td>4.09</td>\n",
              "      <td>(6, 10]</td>\n",
              "    </tr>\n",
              "    <tr>\n",
              "      <th>339</th>\n",
              "      <td>339</td>\n",
              "      <td>Ilmol66</td>\n",
              "      <td>8</td>\n",
              "      <td>Female</td>\n",
              "      <td>124</td>\n",
              "      <td>Venom Claymore</td>\n",
              "      <td>1.29</td>\n",
              "      <td>(6, 10]</td>\n",
              "    </tr>\n",
              "    <tr>\n",
              "      <th>187</th>\n",
              "      <td>187</td>\n",
              "      <td>Tyeurith29</td>\n",
              "      <td>8</td>\n",
              "      <td>Male</td>\n",
              "      <td>11</td>\n",
              "      <td>Brimstone</td>\n",
              "      <td>3.65</td>\n",
              "      <td>(6, 10]</td>\n",
              "    </tr>\n",
              "    <tr>\n",
              "      <th>686</th>\n",
              "      <td>686</td>\n",
              "      <td>Chadjask77</td>\n",
              "      <td>8</td>\n",
              "      <td>Male</td>\n",
              "      <td>147</td>\n",
              "      <td>Hellreaver, Heirloom of Inception</td>\n",
              "      <td>4.93</td>\n",
              "      <td>(6, 10]</td>\n",
              "    </tr>\n",
              "    <tr>\n",
              "      <th>486</th>\n",
              "      <td>486</td>\n",
              "      <td>Eurithphos97</td>\n",
              "      <td>9</td>\n",
              "      <td>Male</td>\n",
              "      <td>53</td>\n",
              "      <td>Vengeance Cleaver</td>\n",
              "      <td>2.05</td>\n",
              "      <td>(6, 10]</td>\n",
              "    </tr>\n",
              "    <tr>\n",
              "      <th>692</th>\n",
              "      <td>692</td>\n",
              "      <td>Quaecjask96</td>\n",
              "      <td>9</td>\n",
              "      <td>Male</td>\n",
              "      <td>78</td>\n",
              "      <td>Glimmer, Ender of the Moon</td>\n",
              "      <td>4.40</td>\n",
              "      <td>(6, 10]</td>\n",
              "    </tr>\n",
              "    <tr>\n",
              "      <th>575</th>\n",
              "      <td>575</td>\n",
              "      <td>Sondadar26</td>\n",
              "      <td>9</td>\n",
              "      <td>Male</td>\n",
              "      <td>137</td>\n",
              "      <td>Aetherius, Boon of the Blessed</td>\n",
              "      <td>3.39</td>\n",
              "      <td>(6, 10]</td>\n",
              "    </tr>\n",
              "    <tr>\n",
              "      <th>732</th>\n",
              "      <td>732</td>\n",
              "      <td>Eurithphos97</td>\n",
              "      <td>9</td>\n",
              "      <td>Male</td>\n",
              "      <td>97</td>\n",
              "      <td>Swan Song, Gouger Of Terror</td>\n",
              "      <td>2.50</td>\n",
              "      <td>(6, 10]</td>\n",
              "    </tr>\n",
              "    <tr>\n",
              "      <th>672</th>\n",
              "      <td>672</td>\n",
              "      <td>Ililsan66</td>\n",
              "      <td>9</td>\n",
              "      <td>Male</td>\n",
              "      <td>122</td>\n",
              "      <td>Unending Tyranny</td>\n",
              "      <td>2.85</td>\n",
              "      <td>(6, 10]</td>\n",
              "    </tr>\n",
              "    <tr>\n",
              "      <th>546</th>\n",
              "      <td>546</td>\n",
              "      <td>Sondadar26</td>\n",
              "      <td>9</td>\n",
              "      <td>Male</td>\n",
              "      <td>159</td>\n",
              "      <td>Oathbreaker, Spellblade of Trials</td>\n",
              "      <td>3.08</td>\n",
              "      <td>(6, 10]</td>\n",
              "    </tr>\n",
              "    <tr>\n",
              "      <th>679</th>\n",
              "      <td>679</td>\n",
              "      <td>Iarilis73</td>\n",
              "      <td>10</td>\n",
              "      <td>Male</td>\n",
              "      <td>153</td>\n",
              "      <td>Mercenary Sabre</td>\n",
              "      <td>3.74</td>\n",
              "      <td>(6, 10]</td>\n",
              "    </tr>\n",
              "    <tr>\n",
              "      <th>38</th>\n",
              "      <td>38</td>\n",
              "      <td>Reulae52</td>\n",
              "      <td>10</td>\n",
              "      <td>Female</td>\n",
              "      <td>116</td>\n",
              "      <td>Renewed Skeletal Katana</td>\n",
              "      <td>4.18</td>\n",
              "      <td>(6, 10]</td>\n",
              "    </tr>\n",
              "    <tr>\n",
              "      <th>54</th>\n",
              "      <td>54</td>\n",
              "      <td>Zhisrisu83</td>\n",
              "      <td>10</td>\n",
              "      <td>Male</td>\n",
              "      <td>25</td>\n",
              "      <td>Hero Cane</td>\n",
              "      <td>4.35</td>\n",
              "      <td>(6, 10]</td>\n",
              "    </tr>\n",
              "    <tr>\n",
              "      <th>424</th>\n",
              "      <td>424</td>\n",
              "      <td>Iarilis73</td>\n",
              "      <td>10</td>\n",
              "      <td>Male</td>\n",
              "      <td>149</td>\n",
              "      <td>Tranquility, Razor of Black Magic</td>\n",
              "      <td>1.75</td>\n",
              "      <td>(6, 10]</td>\n",
              "    </tr>\n",
              "    <tr>\n",
              "      <th>32</th>\n",
              "      <td>32</td>\n",
              "      <td>Aeralria27</td>\n",
              "      <td>10</td>\n",
              "      <td>Male</td>\n",
              "      <td>133</td>\n",
              "      <td>Faith's Scimitar</td>\n",
              "      <td>4.09</td>\n",
              "      <td>(6, 10]</td>\n",
              "    </tr>\n",
              "    <tr>\n",
              "      <th>411</th>\n",
              "      <td>411</td>\n",
              "      <td>Lisico81</td>\n",
              "      <td>10</td>\n",
              "      <td>Male</td>\n",
              "      <td>101</td>\n",
              "      <td>Final Critic</td>\n",
              "      <td>4.19</td>\n",
              "      <td>(6, 10]</td>\n",
              "    </tr>\n",
              "    <tr>\n",
              "      <th>155</th>\n",
              "      <td>155</td>\n",
              "      <td>Aillyrin83</td>\n",
              "      <td>10</td>\n",
              "      <td>Female</td>\n",
              "      <td>98</td>\n",
              "      <td>Deadline, Voice Of Subtlety</td>\n",
              "      <td>2.89</td>\n",
              "      <td>(6, 10]</td>\n",
              "    </tr>\n",
              "    <tr>\n",
              "      <th>534</th>\n",
              "      <td>534</td>\n",
              "      <td>Iana95</td>\n",
              "      <td>10</td>\n",
              "      <td>Male</td>\n",
              "      <td>146</td>\n",
              "      <td>Warped Iron Scimitar</td>\n",
              "      <td>3.10</td>\n",
              "      <td>(6, 10]</td>\n",
              "    </tr>\n",
              "    <tr>\n",
              "      <th>141</th>\n",
              "      <td>141</td>\n",
              "      <td>Zhisrisu83</td>\n",
              "      <td>10</td>\n",
              "      <td>Male</td>\n",
              "      <td>60</td>\n",
              "      <td>Wolf</td>\n",
              "      <td>3.54</td>\n",
              "      <td>(6, 10]</td>\n",
              "    </tr>\n",
              "  </tbody>\n",
              "</table>\n",
              "</div>\n",
              "      <button class=\"colab-df-convert\" onclick=\"convertToInteractive('df-b2a42b88-e16c-4094-bc29-df985cfb49d5')\"\n",
              "              title=\"Convert this dataframe to an interactive table.\"\n",
              "              style=\"display:none;\">\n",
              "        \n",
              "  <svg xmlns=\"http://www.w3.org/2000/svg\" height=\"24px\"viewBox=\"0 0 24 24\"\n",
              "       width=\"24px\">\n",
              "    <path d=\"M0 0h24v24H0V0z\" fill=\"none\"/>\n",
              "    <path d=\"M18.56 5.44l.94 2.06.94-2.06 2.06-.94-2.06-.94-.94-2.06-.94 2.06-2.06.94zm-11 1L8.5 8.5l.94-2.06 2.06-.94-2.06-.94L8.5 2.5l-.94 2.06-2.06.94zm10 10l.94 2.06.94-2.06 2.06-.94-2.06-.94-.94-2.06-.94 2.06-2.06.94z\"/><path d=\"M17.41 7.96l-1.37-1.37c-.4-.4-.92-.59-1.43-.59-.52 0-1.04.2-1.43.59L10.3 9.45l-7.72 7.72c-.78.78-.78 2.05 0 2.83L4 21.41c.39.39.9.59 1.41.59.51 0 1.02-.2 1.41-.59l7.78-7.78 2.81-2.81c.8-.78.8-2.07 0-2.86zM5.41 20L4 18.59l7.72-7.72 1.47 1.35L5.41 20z\"/>\n",
              "  </svg>\n",
              "      </button>\n",
              "      \n",
              "  <style>\n",
              "    .colab-df-container {\n",
              "      display:flex;\n",
              "      flex-wrap:wrap;\n",
              "      gap: 12px;\n",
              "    }\n",
              "\n",
              "    .colab-df-convert {\n",
              "      background-color: #E8F0FE;\n",
              "      border: none;\n",
              "      border-radius: 50%;\n",
              "      cursor: pointer;\n",
              "      display: none;\n",
              "      fill: #1967D2;\n",
              "      height: 32px;\n",
              "      padding: 0 0 0 0;\n",
              "      width: 32px;\n",
              "    }\n",
              "\n",
              "    .colab-df-convert:hover {\n",
              "      background-color: #E2EBFA;\n",
              "      box-shadow: 0px 1px 2px rgba(60, 64, 67, 0.3), 0px 1px 3px 1px rgba(60, 64, 67, 0.15);\n",
              "      fill: #174EA6;\n",
              "    }\n",
              "\n",
              "    [theme=dark] .colab-df-convert {\n",
              "      background-color: #3B4455;\n",
              "      fill: #D2E3FC;\n",
              "    }\n",
              "\n",
              "    [theme=dark] .colab-df-convert:hover {\n",
              "      background-color: #434B5C;\n",
              "      box-shadow: 0px 1px 3px 1px rgba(0, 0, 0, 0.15);\n",
              "      filter: drop-shadow(0px 1px 2px rgba(0, 0, 0, 0.3));\n",
              "      fill: #FFFFFF;\n",
              "    }\n",
              "  </style>\n",
              "\n",
              "      <script>\n",
              "        const buttonEl =\n",
              "          document.querySelector('#df-b2a42b88-e16c-4094-bc29-df985cfb49d5 button.colab-df-convert');\n",
              "        buttonEl.style.display =\n",
              "          google.colab.kernel.accessAllowed ? 'block' : 'none';\n",
              "\n",
              "        async function convertToInteractive(key) {\n",
              "          const element = document.querySelector('#df-b2a42b88-e16c-4094-bc29-df985cfb49d5');\n",
              "          const dataTable =\n",
              "            await google.colab.kernel.invokeFunction('convertToInteractive',\n",
              "                                                     [key], {});\n",
              "          if (!dataTable) return;\n",
              "\n",
              "          const docLinkHtml = 'Like what you see? Visit the ' +\n",
              "            '<a target=\"_blank\" href=https://colab.research.google.com/notebooks/data_table.ipynb>data table notebook</a>'\n",
              "            + ' to learn more about interactive tables.';\n",
              "          element.innerHTML = '';\n",
              "          dataTable['output_type'] = 'display_data';\n",
              "          await google.colab.output.renderOutput(dataTable, element);\n",
              "          const docLink = document.createElement('div');\n",
              "          docLink.innerHTML = docLinkHtml;\n",
              "          element.appendChild(docLink);\n",
              "        }\n",
              "      </script>\n",
              "    </div>\n",
              "  </div>\n",
              "  "
            ]
          },
          "metadata": {},
          "execution_count": 369
        }
      ]
    },
    {
      "cell_type": "code",
      "source": [
        "avg1st=df[fstbin]['Price'].mean()\n",
        "print(avg1st)                   # mean ,Purchase Count and sum for 1st group (6,10] \n",
        "sum1st=df[fstbin]['Price'].sum()\n",
        "count1=df[fstbin][\"Purchase ID\"].count()\n",
        "print(count1)\n",
        "print(sum1st)"
      ],
      "metadata": {
        "colab": {
          "base_uri": "https://localhost:8080/"
        },
        "id": "bVPDw5Pob9h1",
        "outputId": "8a978f04-136f-432c-e942-0162667619b5"
      },
      "execution_count": 370,
      "outputs": [
        {
          "output_type": "stream",
          "name": "stdout",
          "text": [
            "3.4049999999999994\n",
            "32\n",
            "108.96000000000001\n"
          ]
        }
      ]
    },
    {
      "cell_type": "code",
      "source": [
        "bin2= df['bins']==pd.Interval(left=10,right=14)\n",
        "\n",
        "df[bin2]"
      ],
      "metadata": {
        "colab": {
          "base_uri": "https://localhost:8080/",
          "height": 645
        },
        "id": "szQgsIcycWKf",
        "outputId": "822a9c63-5ed9-4200-fdd9-d060e8ae24ea"
      },
      "execution_count": 371,
      "outputs": [
        {
          "output_type": "execute_result",
          "data": {
            "text/plain": [
              "     Purchase ID             SN  Age  Gender  Item ID  \\\n",
              "751          751    Lisjaskan36   11    Male      180   \n",
              "601          601    Ilastilis78   11    Male       93   \n",
              "163          163        Sidap51   11    Male       65   \n",
              "299          299     Lirtossa84   11    Male      164   \n",
              "539          539     Eosurdru76   11    Male      117   \n",
              "26            26     Lirtossa84   11    Male       71   \n",
              "774          774     Jiskjask80   11    Male      101   \n",
              "408          408       Raesty92   12    Male       53   \n",
              "394          394  Lassassasda30   12    Male       60   \n",
              "413          413        Siana77   12    Male       93   \n",
              "56            56       Raesty92   12    Male      108   \n",
              "531          531     Lirtirra81   12    Male      143   \n",
              "755          755       Raesty92   12    Male       76   \n",
              "76            76   Mindadaran26   13  Female       88   \n",
              "139          139       Lisasi93   13    Male      158   \n",
              "292          292       Lisasi93   13    Male       70   \n",
              "449          449   Ethralista69   13    Male       34   \n",
              "487          487    Raillydeu47   14    Male       93   \n",
              "493          493  Chanirrasta87   14    Male      139   \n",
              "\n",
              "                                     Item Name  Price      bins  \n",
              "751                                Stormcaller   3.36  (10, 14]  \n",
              "601                   Apocalyptic Battlescythe   1.97  (10, 14]  \n",
              "163                  Conqueror Adamantite Mace   4.24  (10, 14]  \n",
              "299                           Exiled Doomblade   1.63  (10, 14]  \n",
              "539          Heartstriker, Legacy of the Light   1.79  (10, 14]  \n",
              "26                                      Demise   1.61  (10, 14]  \n",
              "774                               Final Critic   4.19  (10, 14]  \n",
              "408                          Vengeance Cleaver   2.05  (10, 14]  \n",
              "394                                       Wolf   3.54  (10, 14]  \n",
              "413                   Apocalyptic Battlescythe   1.97  (10, 14]  \n",
              "56   Extraction, Quickblade Of Trembling Hands   3.53  (10, 14]  \n",
              "531                          Frenzied Scimitar   1.56  (10, 14]  \n",
              "755                   Haunted Bronzed Bludgeon   3.15  (10, 14]  \n",
              "76            Emberling, Defender of Delusions   3.75  (10, 14]  \n",
              "139         Darkheart, Butcher of the Champion   2.45  (10, 14]  \n",
              "292                                 Hope's End   1.03  (10, 14]  \n",
              "449                            Retribution Axe   2.22  (10, 14]  \n",
              "487                   Apocalyptic Battlescythe   1.97  (10, 14]  \n",
              "493                    Mercy, Katana of Dismay   4.94  (10, 14]  "
            ],
            "text/html": [
              "\n",
              "  <div id=\"df-18ffa3e4-bbb4-478a-8a94-d7be38520c52\">\n",
              "    <div class=\"colab-df-container\">\n",
              "      <div>\n",
              "<style scoped>\n",
              "    .dataframe tbody tr th:only-of-type {\n",
              "        vertical-align: middle;\n",
              "    }\n",
              "\n",
              "    .dataframe tbody tr th {\n",
              "        vertical-align: top;\n",
              "    }\n",
              "\n",
              "    .dataframe thead th {\n",
              "        text-align: right;\n",
              "    }\n",
              "</style>\n",
              "<table border=\"1\" class=\"dataframe\">\n",
              "  <thead>\n",
              "    <tr style=\"text-align: right;\">\n",
              "      <th></th>\n",
              "      <th>Purchase ID</th>\n",
              "      <th>SN</th>\n",
              "      <th>Age</th>\n",
              "      <th>Gender</th>\n",
              "      <th>Item ID</th>\n",
              "      <th>Item Name</th>\n",
              "      <th>Price</th>\n",
              "      <th>bins</th>\n",
              "    </tr>\n",
              "  </thead>\n",
              "  <tbody>\n",
              "    <tr>\n",
              "      <th>751</th>\n",
              "      <td>751</td>\n",
              "      <td>Lisjaskan36</td>\n",
              "      <td>11</td>\n",
              "      <td>Male</td>\n",
              "      <td>180</td>\n",
              "      <td>Stormcaller</td>\n",
              "      <td>3.36</td>\n",
              "      <td>(10, 14]</td>\n",
              "    </tr>\n",
              "    <tr>\n",
              "      <th>601</th>\n",
              "      <td>601</td>\n",
              "      <td>Ilastilis78</td>\n",
              "      <td>11</td>\n",
              "      <td>Male</td>\n",
              "      <td>93</td>\n",
              "      <td>Apocalyptic Battlescythe</td>\n",
              "      <td>1.97</td>\n",
              "      <td>(10, 14]</td>\n",
              "    </tr>\n",
              "    <tr>\n",
              "      <th>163</th>\n",
              "      <td>163</td>\n",
              "      <td>Sidap51</td>\n",
              "      <td>11</td>\n",
              "      <td>Male</td>\n",
              "      <td>65</td>\n",
              "      <td>Conqueror Adamantite Mace</td>\n",
              "      <td>4.24</td>\n",
              "      <td>(10, 14]</td>\n",
              "    </tr>\n",
              "    <tr>\n",
              "      <th>299</th>\n",
              "      <td>299</td>\n",
              "      <td>Lirtossa84</td>\n",
              "      <td>11</td>\n",
              "      <td>Male</td>\n",
              "      <td>164</td>\n",
              "      <td>Exiled Doomblade</td>\n",
              "      <td>1.63</td>\n",
              "      <td>(10, 14]</td>\n",
              "    </tr>\n",
              "    <tr>\n",
              "      <th>539</th>\n",
              "      <td>539</td>\n",
              "      <td>Eosurdru76</td>\n",
              "      <td>11</td>\n",
              "      <td>Male</td>\n",
              "      <td>117</td>\n",
              "      <td>Heartstriker, Legacy of the Light</td>\n",
              "      <td>1.79</td>\n",
              "      <td>(10, 14]</td>\n",
              "    </tr>\n",
              "    <tr>\n",
              "      <th>26</th>\n",
              "      <td>26</td>\n",
              "      <td>Lirtossa84</td>\n",
              "      <td>11</td>\n",
              "      <td>Male</td>\n",
              "      <td>71</td>\n",
              "      <td>Demise</td>\n",
              "      <td>1.61</td>\n",
              "      <td>(10, 14]</td>\n",
              "    </tr>\n",
              "    <tr>\n",
              "      <th>774</th>\n",
              "      <td>774</td>\n",
              "      <td>Jiskjask80</td>\n",
              "      <td>11</td>\n",
              "      <td>Male</td>\n",
              "      <td>101</td>\n",
              "      <td>Final Critic</td>\n",
              "      <td>4.19</td>\n",
              "      <td>(10, 14]</td>\n",
              "    </tr>\n",
              "    <tr>\n",
              "      <th>408</th>\n",
              "      <td>408</td>\n",
              "      <td>Raesty92</td>\n",
              "      <td>12</td>\n",
              "      <td>Male</td>\n",
              "      <td>53</td>\n",
              "      <td>Vengeance Cleaver</td>\n",
              "      <td>2.05</td>\n",
              "      <td>(10, 14]</td>\n",
              "    </tr>\n",
              "    <tr>\n",
              "      <th>394</th>\n",
              "      <td>394</td>\n",
              "      <td>Lassassasda30</td>\n",
              "      <td>12</td>\n",
              "      <td>Male</td>\n",
              "      <td>60</td>\n",
              "      <td>Wolf</td>\n",
              "      <td>3.54</td>\n",
              "      <td>(10, 14]</td>\n",
              "    </tr>\n",
              "    <tr>\n",
              "      <th>413</th>\n",
              "      <td>413</td>\n",
              "      <td>Siana77</td>\n",
              "      <td>12</td>\n",
              "      <td>Male</td>\n",
              "      <td>93</td>\n",
              "      <td>Apocalyptic Battlescythe</td>\n",
              "      <td>1.97</td>\n",
              "      <td>(10, 14]</td>\n",
              "    </tr>\n",
              "    <tr>\n",
              "      <th>56</th>\n",
              "      <td>56</td>\n",
              "      <td>Raesty92</td>\n",
              "      <td>12</td>\n",
              "      <td>Male</td>\n",
              "      <td>108</td>\n",
              "      <td>Extraction, Quickblade Of Trembling Hands</td>\n",
              "      <td>3.53</td>\n",
              "      <td>(10, 14]</td>\n",
              "    </tr>\n",
              "    <tr>\n",
              "      <th>531</th>\n",
              "      <td>531</td>\n",
              "      <td>Lirtirra81</td>\n",
              "      <td>12</td>\n",
              "      <td>Male</td>\n",
              "      <td>143</td>\n",
              "      <td>Frenzied Scimitar</td>\n",
              "      <td>1.56</td>\n",
              "      <td>(10, 14]</td>\n",
              "    </tr>\n",
              "    <tr>\n",
              "      <th>755</th>\n",
              "      <td>755</td>\n",
              "      <td>Raesty92</td>\n",
              "      <td>12</td>\n",
              "      <td>Male</td>\n",
              "      <td>76</td>\n",
              "      <td>Haunted Bronzed Bludgeon</td>\n",
              "      <td>3.15</td>\n",
              "      <td>(10, 14]</td>\n",
              "    </tr>\n",
              "    <tr>\n",
              "      <th>76</th>\n",
              "      <td>76</td>\n",
              "      <td>Mindadaran26</td>\n",
              "      <td>13</td>\n",
              "      <td>Female</td>\n",
              "      <td>88</td>\n",
              "      <td>Emberling, Defender of Delusions</td>\n",
              "      <td>3.75</td>\n",
              "      <td>(10, 14]</td>\n",
              "    </tr>\n",
              "    <tr>\n",
              "      <th>139</th>\n",
              "      <td>139</td>\n",
              "      <td>Lisasi93</td>\n",
              "      <td>13</td>\n",
              "      <td>Male</td>\n",
              "      <td>158</td>\n",
              "      <td>Darkheart, Butcher of the Champion</td>\n",
              "      <td>2.45</td>\n",
              "      <td>(10, 14]</td>\n",
              "    </tr>\n",
              "    <tr>\n",
              "      <th>292</th>\n",
              "      <td>292</td>\n",
              "      <td>Lisasi93</td>\n",
              "      <td>13</td>\n",
              "      <td>Male</td>\n",
              "      <td>70</td>\n",
              "      <td>Hope's End</td>\n",
              "      <td>1.03</td>\n",
              "      <td>(10, 14]</td>\n",
              "    </tr>\n",
              "    <tr>\n",
              "      <th>449</th>\n",
              "      <td>449</td>\n",
              "      <td>Ethralista69</td>\n",
              "      <td>13</td>\n",
              "      <td>Male</td>\n",
              "      <td>34</td>\n",
              "      <td>Retribution Axe</td>\n",
              "      <td>2.22</td>\n",
              "      <td>(10, 14]</td>\n",
              "    </tr>\n",
              "    <tr>\n",
              "      <th>487</th>\n",
              "      <td>487</td>\n",
              "      <td>Raillydeu47</td>\n",
              "      <td>14</td>\n",
              "      <td>Male</td>\n",
              "      <td>93</td>\n",
              "      <td>Apocalyptic Battlescythe</td>\n",
              "      <td>1.97</td>\n",
              "      <td>(10, 14]</td>\n",
              "    </tr>\n",
              "    <tr>\n",
              "      <th>493</th>\n",
              "      <td>493</td>\n",
              "      <td>Chanirrasta87</td>\n",
              "      <td>14</td>\n",
              "      <td>Male</td>\n",
              "      <td>139</td>\n",
              "      <td>Mercy, Katana of Dismay</td>\n",
              "      <td>4.94</td>\n",
              "      <td>(10, 14]</td>\n",
              "    </tr>\n",
              "  </tbody>\n",
              "</table>\n",
              "</div>\n",
              "      <button class=\"colab-df-convert\" onclick=\"convertToInteractive('df-18ffa3e4-bbb4-478a-8a94-d7be38520c52')\"\n",
              "              title=\"Convert this dataframe to an interactive table.\"\n",
              "              style=\"display:none;\">\n",
              "        \n",
              "  <svg xmlns=\"http://www.w3.org/2000/svg\" height=\"24px\"viewBox=\"0 0 24 24\"\n",
              "       width=\"24px\">\n",
              "    <path d=\"M0 0h24v24H0V0z\" fill=\"none\"/>\n",
              "    <path d=\"M18.56 5.44l.94 2.06.94-2.06 2.06-.94-2.06-.94-.94-2.06-.94 2.06-2.06.94zm-11 1L8.5 8.5l.94-2.06 2.06-.94-2.06-.94L8.5 2.5l-.94 2.06-2.06.94zm10 10l.94 2.06.94-2.06 2.06-.94-2.06-.94-.94-2.06-.94 2.06-2.06.94z\"/><path d=\"M17.41 7.96l-1.37-1.37c-.4-.4-.92-.59-1.43-.59-.52 0-1.04.2-1.43.59L10.3 9.45l-7.72 7.72c-.78.78-.78 2.05 0 2.83L4 21.41c.39.39.9.59 1.41.59.51 0 1.02-.2 1.41-.59l7.78-7.78 2.81-2.81c.8-.78.8-2.07 0-2.86zM5.41 20L4 18.59l7.72-7.72 1.47 1.35L5.41 20z\"/>\n",
              "  </svg>\n",
              "      </button>\n",
              "      \n",
              "  <style>\n",
              "    .colab-df-container {\n",
              "      display:flex;\n",
              "      flex-wrap:wrap;\n",
              "      gap: 12px;\n",
              "    }\n",
              "\n",
              "    .colab-df-convert {\n",
              "      background-color: #E8F0FE;\n",
              "      border: none;\n",
              "      border-radius: 50%;\n",
              "      cursor: pointer;\n",
              "      display: none;\n",
              "      fill: #1967D2;\n",
              "      height: 32px;\n",
              "      padding: 0 0 0 0;\n",
              "      width: 32px;\n",
              "    }\n",
              "\n",
              "    .colab-df-convert:hover {\n",
              "      background-color: #E2EBFA;\n",
              "      box-shadow: 0px 1px 2px rgba(60, 64, 67, 0.3), 0px 1px 3px 1px rgba(60, 64, 67, 0.15);\n",
              "      fill: #174EA6;\n",
              "    }\n",
              "\n",
              "    [theme=dark] .colab-df-convert {\n",
              "      background-color: #3B4455;\n",
              "      fill: #D2E3FC;\n",
              "    }\n",
              "\n",
              "    [theme=dark] .colab-df-convert:hover {\n",
              "      background-color: #434B5C;\n",
              "      box-shadow: 0px 1px 3px 1px rgba(0, 0, 0, 0.15);\n",
              "      filter: drop-shadow(0px 1px 2px rgba(0, 0, 0, 0.3));\n",
              "      fill: #FFFFFF;\n",
              "    }\n",
              "  </style>\n",
              "\n",
              "      <script>\n",
              "        const buttonEl =\n",
              "          document.querySelector('#df-18ffa3e4-bbb4-478a-8a94-d7be38520c52 button.colab-df-convert');\n",
              "        buttonEl.style.display =\n",
              "          google.colab.kernel.accessAllowed ? 'block' : 'none';\n",
              "\n",
              "        async function convertToInteractive(key) {\n",
              "          const element = document.querySelector('#df-18ffa3e4-bbb4-478a-8a94-d7be38520c52');\n",
              "          const dataTable =\n",
              "            await google.colab.kernel.invokeFunction('convertToInteractive',\n",
              "                                                     [key], {});\n",
              "          if (!dataTable) return;\n",
              "\n",
              "          const docLinkHtml = 'Like what you see? Visit the ' +\n",
              "            '<a target=\"_blank\" href=https://colab.research.google.com/notebooks/data_table.ipynb>data table notebook</a>'\n",
              "            + ' to learn more about interactive tables.';\n",
              "          element.innerHTML = '';\n",
              "          dataTable['output_type'] = 'display_data';\n",
              "          await google.colab.output.renderOutput(dataTable, element);\n",
              "          const docLink = document.createElement('div');\n",
              "          docLink.innerHTML = docLinkHtml;\n",
              "          element.appendChild(docLink);\n",
              "        }\n",
              "      </script>\n",
              "    </div>\n",
              "  </div>\n",
              "  "
            ]
          },
          "metadata": {},
          "execution_count": 371
        }
      ]
    },
    {
      "cell_type": "code",
      "source": [
        "\n",
        "mean2=df[bin2]['Price'].mean() \n",
        "print(mean2)                       # mean , sum and Purchase count  for 2nd group (10,14] \n",
        "sum2=df[bin2]['Price'].sum()\n",
        "print(sum1st)\n",
        "count2=df[bin2][\"Purchase ID\"].count()\n",
        "print(count2)\n"
      ],
      "metadata": {
        "colab": {
          "base_uri": "https://localhost:8080/"
        },
        "id": "DRSwcw0XdG4z",
        "outputId": "cd8b1a80-d081-4abe-bb51-615737b0d7bd"
      },
      "execution_count": 372,
      "outputs": [
        {
          "output_type": "stream",
          "name": "stdout",
          "text": [
            "2.6815789473684206\n",
            "108.96000000000001\n",
            "19\n"
          ]
        }
      ]
    },
    {
      "cell_type": "code",
      "source": [
        "bin3= df['bins']==pd.Interval(left=14,right=18)\n",
        "                                                 # mean ,sum ,purchase count for 3rd group (14,18] \n",
        "print(df[bin3]['Price'].mean())\n",
        "sum3=df[bin3]['Price'].sum()\n",
        "print(sum1st)\n",
        "count3=df[bin3][\"Purchase ID\"].count()\n",
        "print(count3)"
      ],
      "metadata": {
        "colab": {
          "base_uri": "https://localhost:8080/"
        },
        "id": "9EXmgCZGciUb",
        "outputId": "96eb2723-9f9c-4636-f49a-0d11bad5a5c5"
      },
      "execution_count": 373,
      "outputs": [
        {
          "output_type": "stream",
          "name": "stdout",
          "text": [
            "3.0346017699115033\n",
            "108.96000000000001\n",
            "113\n"
          ]
        }
      ]
    },
    {
      "cell_type": "code",
      "source": [
        "bin4= df['bins']==pd.Interval(left=18,right=22)\n",
        "                                                 # mean,sum and purchase  for 4th group (18,22] \n",
        "print(df[bin4]['Price'].mean())\n",
        "sum4=df[bin4]['Price'].sum()\n",
        "print(sum4)\n",
        "count4=df[bin4][\"Purchase ID\"].count()\n",
        "print(count4)"
      ],
      "metadata": {
        "colab": {
          "base_uri": "https://localhost:8080/"
        },
        "id": "qKxqctvGdkbw",
        "outputId": "97c25610-7773-4f07-db59-e2abd2d89e55"
      },
      "execution_count": 374,
      "outputs": [
        {
          "output_type": "stream",
          "name": "stdout",
          "text": [
            "3.038937007874018\n",
            "771.89\n",
            "254\n"
          ]
        }
      ]
    },
    {
      "cell_type": "code",
      "source": [
        "bin5= df['bins']==pd.Interval(left=22,right=26)\n",
        "                                                 # mean,sum and Purchase count  for 5rd group (22,26] \n",
        "print(df[bin5]['Price'].mean())\n",
        "sum5=df[bin5]['Price'].sum()\n",
        "print(sum5)\n",
        "\n",
        "count5=df[bin5][\"Purchase ID\"].count()\n",
        "print(count5)"
      ],
      "metadata": {
        "colab": {
          "base_uri": "https://localhost:8080/"
        },
        "id": "dKOM3PtsiAlH",
        "outputId": "3c4ebab9-6862-4b99-cc4d-bd77d6659d21"
      },
      "execution_count": 375,
      "outputs": [
        {
          "output_type": "stream",
          "name": "stdout",
          "text": [
            "3.063961352657007\n",
            "634.24\n",
            "207\n"
          ]
        }
      ]
    },
    {
      "cell_type": "code",
      "source": [
        ""
      ],
      "metadata": {
        "id": "ceu3oIYeiBVf"
      },
      "execution_count": 375,
      "outputs": []
    },
    {
      "cell_type": "code",
      "source": [
        "df"
      ],
      "metadata": {
        "colab": {
          "base_uri": "https://localhost:8080/",
          "height": 424
        },
        "id": "oJLke8brS6Ko",
        "outputId": "c4e4a544-09ec-450b-acd0-c1139dfa256a"
      },
      "execution_count": 376,
      "outputs": [
        {
          "output_type": "execute_result",
          "data": {
            "text/plain": [
              "     Purchase ID            SN  Age  Gender  Item ID  \\\n",
              "33            33  Haillyrgue51    7    Male       44   \n",
              "778          778       Sisur91    7    Male      101   \n",
              "446          446  Chanossast57    7  Female      119   \n",
              "515          515  Haillyrgue51    7    Male       40   \n",
              "658          658    Quilassa66    7  Female      178   \n",
              "..           ...           ...  ...     ...      ...   \n",
              "557          557    Frichaya88   42    Male        8   \n",
              "674          674       Aeral68   43    Male       77   \n",
              "248          248    Isursuir31   44    Male      137   \n",
              "728          728  Chanosiaya39   44    Male       93   \n",
              "761          761       Assim27   45    Male       17   \n",
              "\n",
              "                                        Item Name  Price      bins  \n",
              "33                          Bonecarvin Battle Axe   2.38   (6, 10]  \n",
              "778                                  Final Critic   4.19   (6, 10]  \n",
              "446     Stormbringer, Dark Blade of Ending Misery   4.32   (6, 10]  \n",
              "515                                 Second Chance   2.52   (6, 10]  \n",
              "658  Oathbreaker, Last Hope of the Breaking Storm   4.23   (6, 10]  \n",
              "..                                            ...    ...       ...  \n",
              "557                      Purgatory, Gem of Regret   3.93  (38, 42]  \n",
              "674                    Piety, Guardian of Riddles   4.00  (42, 46]  \n",
              "248                Aetherius, Boon of the Blessed   3.39  (42, 46]  \n",
              "728                      Apocalyptic Battlescythe   1.97  (42, 46]  \n",
              "761                  Lazarus, Terror of the Earth   1.70  (42, 46]  \n",
              "\n",
              "[780 rows x 8 columns]"
            ],
            "text/html": [
              "\n",
              "  <div id=\"df-4bb0dca7-2970-4680-b15b-a21651973909\">\n",
              "    <div class=\"colab-df-container\">\n",
              "      <div>\n",
              "<style scoped>\n",
              "    .dataframe tbody tr th:only-of-type {\n",
              "        vertical-align: middle;\n",
              "    }\n",
              "\n",
              "    .dataframe tbody tr th {\n",
              "        vertical-align: top;\n",
              "    }\n",
              "\n",
              "    .dataframe thead th {\n",
              "        text-align: right;\n",
              "    }\n",
              "</style>\n",
              "<table border=\"1\" class=\"dataframe\">\n",
              "  <thead>\n",
              "    <tr style=\"text-align: right;\">\n",
              "      <th></th>\n",
              "      <th>Purchase ID</th>\n",
              "      <th>SN</th>\n",
              "      <th>Age</th>\n",
              "      <th>Gender</th>\n",
              "      <th>Item ID</th>\n",
              "      <th>Item Name</th>\n",
              "      <th>Price</th>\n",
              "      <th>bins</th>\n",
              "    </tr>\n",
              "  </thead>\n",
              "  <tbody>\n",
              "    <tr>\n",
              "      <th>33</th>\n",
              "      <td>33</td>\n",
              "      <td>Haillyrgue51</td>\n",
              "      <td>7</td>\n",
              "      <td>Male</td>\n",
              "      <td>44</td>\n",
              "      <td>Bonecarvin Battle Axe</td>\n",
              "      <td>2.38</td>\n",
              "      <td>(6, 10]</td>\n",
              "    </tr>\n",
              "    <tr>\n",
              "      <th>778</th>\n",
              "      <td>778</td>\n",
              "      <td>Sisur91</td>\n",
              "      <td>7</td>\n",
              "      <td>Male</td>\n",
              "      <td>101</td>\n",
              "      <td>Final Critic</td>\n",
              "      <td>4.19</td>\n",
              "      <td>(6, 10]</td>\n",
              "    </tr>\n",
              "    <tr>\n",
              "      <th>446</th>\n",
              "      <td>446</td>\n",
              "      <td>Chanossast57</td>\n",
              "      <td>7</td>\n",
              "      <td>Female</td>\n",
              "      <td>119</td>\n",
              "      <td>Stormbringer, Dark Blade of Ending Misery</td>\n",
              "      <td>4.32</td>\n",
              "      <td>(6, 10]</td>\n",
              "    </tr>\n",
              "    <tr>\n",
              "      <th>515</th>\n",
              "      <td>515</td>\n",
              "      <td>Haillyrgue51</td>\n",
              "      <td>7</td>\n",
              "      <td>Male</td>\n",
              "      <td>40</td>\n",
              "      <td>Second Chance</td>\n",
              "      <td>2.52</td>\n",
              "      <td>(6, 10]</td>\n",
              "    </tr>\n",
              "    <tr>\n",
              "      <th>658</th>\n",
              "      <td>658</td>\n",
              "      <td>Quilassa66</td>\n",
              "      <td>7</td>\n",
              "      <td>Female</td>\n",
              "      <td>178</td>\n",
              "      <td>Oathbreaker, Last Hope of the Breaking Storm</td>\n",
              "      <td>4.23</td>\n",
              "      <td>(6, 10]</td>\n",
              "    </tr>\n",
              "    <tr>\n",
              "      <th>...</th>\n",
              "      <td>...</td>\n",
              "      <td>...</td>\n",
              "      <td>...</td>\n",
              "      <td>...</td>\n",
              "      <td>...</td>\n",
              "      <td>...</td>\n",
              "      <td>...</td>\n",
              "      <td>...</td>\n",
              "    </tr>\n",
              "    <tr>\n",
              "      <th>557</th>\n",
              "      <td>557</td>\n",
              "      <td>Frichaya88</td>\n",
              "      <td>42</td>\n",
              "      <td>Male</td>\n",
              "      <td>8</td>\n",
              "      <td>Purgatory, Gem of Regret</td>\n",
              "      <td>3.93</td>\n",
              "      <td>(38, 42]</td>\n",
              "    </tr>\n",
              "    <tr>\n",
              "      <th>674</th>\n",
              "      <td>674</td>\n",
              "      <td>Aeral68</td>\n",
              "      <td>43</td>\n",
              "      <td>Male</td>\n",
              "      <td>77</td>\n",
              "      <td>Piety, Guardian of Riddles</td>\n",
              "      <td>4.00</td>\n",
              "      <td>(42, 46]</td>\n",
              "    </tr>\n",
              "    <tr>\n",
              "      <th>248</th>\n",
              "      <td>248</td>\n",
              "      <td>Isursuir31</td>\n",
              "      <td>44</td>\n",
              "      <td>Male</td>\n",
              "      <td>137</td>\n",
              "      <td>Aetherius, Boon of the Blessed</td>\n",
              "      <td>3.39</td>\n",
              "      <td>(42, 46]</td>\n",
              "    </tr>\n",
              "    <tr>\n",
              "      <th>728</th>\n",
              "      <td>728</td>\n",
              "      <td>Chanosiaya39</td>\n",
              "      <td>44</td>\n",
              "      <td>Male</td>\n",
              "      <td>93</td>\n",
              "      <td>Apocalyptic Battlescythe</td>\n",
              "      <td>1.97</td>\n",
              "      <td>(42, 46]</td>\n",
              "    </tr>\n",
              "    <tr>\n",
              "      <th>761</th>\n",
              "      <td>761</td>\n",
              "      <td>Assim27</td>\n",
              "      <td>45</td>\n",
              "      <td>Male</td>\n",
              "      <td>17</td>\n",
              "      <td>Lazarus, Terror of the Earth</td>\n",
              "      <td>1.70</td>\n",
              "      <td>(42, 46]</td>\n",
              "    </tr>\n",
              "  </tbody>\n",
              "</table>\n",
              "<p>780 rows × 8 columns</p>\n",
              "</div>\n",
              "      <button class=\"colab-df-convert\" onclick=\"convertToInteractive('df-4bb0dca7-2970-4680-b15b-a21651973909')\"\n",
              "              title=\"Convert this dataframe to an interactive table.\"\n",
              "              style=\"display:none;\">\n",
              "        \n",
              "  <svg xmlns=\"http://www.w3.org/2000/svg\" height=\"24px\"viewBox=\"0 0 24 24\"\n",
              "       width=\"24px\">\n",
              "    <path d=\"M0 0h24v24H0V0z\" fill=\"none\"/>\n",
              "    <path d=\"M18.56 5.44l.94 2.06.94-2.06 2.06-.94-2.06-.94-.94-2.06-.94 2.06-2.06.94zm-11 1L8.5 8.5l.94-2.06 2.06-.94-2.06-.94L8.5 2.5l-.94 2.06-2.06.94zm10 10l.94 2.06.94-2.06 2.06-.94-2.06-.94-.94-2.06-.94 2.06-2.06.94z\"/><path d=\"M17.41 7.96l-1.37-1.37c-.4-.4-.92-.59-1.43-.59-.52 0-1.04.2-1.43.59L10.3 9.45l-7.72 7.72c-.78.78-.78 2.05 0 2.83L4 21.41c.39.39.9.59 1.41.59.51 0 1.02-.2 1.41-.59l7.78-7.78 2.81-2.81c.8-.78.8-2.07 0-2.86zM5.41 20L4 18.59l7.72-7.72 1.47 1.35L5.41 20z\"/>\n",
              "  </svg>\n",
              "      </button>\n",
              "      \n",
              "  <style>\n",
              "    .colab-df-container {\n",
              "      display:flex;\n",
              "      flex-wrap:wrap;\n",
              "      gap: 12px;\n",
              "    }\n",
              "\n",
              "    .colab-df-convert {\n",
              "      background-color: #E8F0FE;\n",
              "      border: none;\n",
              "      border-radius: 50%;\n",
              "      cursor: pointer;\n",
              "      display: none;\n",
              "      fill: #1967D2;\n",
              "      height: 32px;\n",
              "      padding: 0 0 0 0;\n",
              "      width: 32px;\n",
              "    }\n",
              "\n",
              "    .colab-df-convert:hover {\n",
              "      background-color: #E2EBFA;\n",
              "      box-shadow: 0px 1px 2px rgba(60, 64, 67, 0.3), 0px 1px 3px 1px rgba(60, 64, 67, 0.15);\n",
              "      fill: #174EA6;\n",
              "    }\n",
              "\n",
              "    [theme=dark] .colab-df-convert {\n",
              "      background-color: #3B4455;\n",
              "      fill: #D2E3FC;\n",
              "    }\n",
              "\n",
              "    [theme=dark] .colab-df-convert:hover {\n",
              "      background-color: #434B5C;\n",
              "      box-shadow: 0px 1px 3px 1px rgba(0, 0, 0, 0.15);\n",
              "      filter: drop-shadow(0px 1px 2px rgba(0, 0, 0, 0.3));\n",
              "      fill: #FFFFFF;\n",
              "    }\n",
              "  </style>\n",
              "\n",
              "      <script>\n",
              "        const buttonEl =\n",
              "          document.querySelector('#df-4bb0dca7-2970-4680-b15b-a21651973909 button.colab-df-convert');\n",
              "        buttonEl.style.display =\n",
              "          google.colab.kernel.accessAllowed ? 'block' : 'none';\n",
              "\n",
              "        async function convertToInteractive(key) {\n",
              "          const element = document.querySelector('#df-4bb0dca7-2970-4680-b15b-a21651973909');\n",
              "          const dataTable =\n",
              "            await google.colab.kernel.invokeFunction('convertToInteractive',\n",
              "                                                     [key], {});\n",
              "          if (!dataTable) return;\n",
              "\n",
              "          const docLinkHtml = 'Like what you see? Visit the ' +\n",
              "            '<a target=\"_blank\" href=https://colab.research.google.com/notebooks/data_table.ipynb>data table notebook</a>'\n",
              "            + ' to learn more about interactive tables.';\n",
              "          element.innerHTML = '';\n",
              "          dataTable['output_type'] = 'display_data';\n",
              "          await google.colab.output.renderOutput(dataTable, element);\n",
              "          const docLink = document.createElement('div');\n",
              "          docLink.innerHTML = docLinkHtml;\n",
              "          element.appendChild(docLink);\n",
              "        }\n",
              "      </script>\n",
              "    </div>\n",
              "  </div>\n",
              "  "
            ]
          },
          "metadata": {},
          "execution_count": 376
        }
      ]
    },
    {
      "cell_type": "code",
      "source": [
        "df['Purchase ID'].count() # purchase count"
      ],
      "metadata": {
        "colab": {
          "base_uri": "https://localhost:8080/"
        },
        "id": "BHFNXQclHwuJ",
        "outputId": "9b65dd2d-d243-4086-9bd5-40346de0ec87"
      },
      "execution_count": 377,
      "outputs": [
        {
          "output_type": "execute_result",
          "data": {
            "text/plain": [
              "780"
            ]
          },
          "metadata": {},
          "execution_count": 377
        }
      ]
    },
    {
      "cell_type": "code",
      "source": [
        "df['Price'].mean() # average price "
      ],
      "metadata": {
        "colab": {
          "base_uri": "https://localhost:8080/"
        },
        "id": "LaK7lydjIAR5",
        "outputId": "2e10e594-cd46-4108-825b-f40ba9e62105"
      },
      "execution_count": 378,
      "outputs": [
        {
          "output_type": "execute_result",
          "data": {
            "text/plain": [
              "3.0509871794871826"
            ]
          },
          "metadata": {},
          "execution_count": 378
        }
      ]
    },
    {
      "cell_type": "code",
      "source": [
        "df['Price'].sum() # Total Purchase price "
      ],
      "metadata": {
        "colab": {
          "base_uri": "https://localhost:8080/"
        },
        "id": "5QI7fS-MIPuo",
        "outputId": "35de00ce-bfdc-4cac-f93f-294ed86c7bf0"
      },
      "execution_count": 379,
      "outputs": [
        {
          "output_type": "execute_result",
          "data": {
            "text/plain": [
              "2379.7700000000004"
            ]
          },
          "metadata": {},
          "execution_count": 379
        }
      ]
    },
    {
      "cell_type": "markdown",
      "source": [
        "Top five spenders"
      ],
      "metadata": {
        "id": "RfUjqK8gA1o3"
      }
    },
    {
      "cell_type": "code",
      "source": [
        "new=df.nlargest(5,[\"Price\"]) #top five spenders\n"
      ],
      "metadata": {
        "id": "owFlHnzKL_QX"
      },
      "execution_count": 380,
      "outputs": []
    },
    {
      "cell_type": "code",
      "source": [
        "new[['SN',\"Price\"]]"
      ],
      "metadata": {
        "colab": {
          "base_uri": "https://localhost:8080/",
          "height": 206
        },
        "id": "5zrDU9zcOhrC",
        "outputId": "d6545d0f-4b0c-4dc0-e9b7-1176748f18e1"
      },
      "execution_count": 381,
      "outputs": [
        {
          "output_type": "execute_result",
          "data": {
            "text/plain": [
              "                SN  Price\n",
              "554       Dyally87   4.99\n",
              "189       Hiasri33   4.99\n",
              "493  Chanirrasta87   4.94\n",
              "116   Lassilsala30   4.94\n",
              "246     Lirtilsa71   4.94"
            ],
            "text/html": [
              "\n",
              "  <div id=\"df-f41d4c42-4bfd-4b0b-9a97-86c70371320b\">\n",
              "    <div class=\"colab-df-container\">\n",
              "      <div>\n",
              "<style scoped>\n",
              "    .dataframe tbody tr th:only-of-type {\n",
              "        vertical-align: middle;\n",
              "    }\n",
              "\n",
              "    .dataframe tbody tr th {\n",
              "        vertical-align: top;\n",
              "    }\n",
              "\n",
              "    .dataframe thead th {\n",
              "        text-align: right;\n",
              "    }\n",
              "</style>\n",
              "<table border=\"1\" class=\"dataframe\">\n",
              "  <thead>\n",
              "    <tr style=\"text-align: right;\">\n",
              "      <th></th>\n",
              "      <th>SN</th>\n",
              "      <th>Price</th>\n",
              "    </tr>\n",
              "  </thead>\n",
              "  <tbody>\n",
              "    <tr>\n",
              "      <th>554</th>\n",
              "      <td>Dyally87</td>\n",
              "      <td>4.99</td>\n",
              "    </tr>\n",
              "    <tr>\n",
              "      <th>189</th>\n",
              "      <td>Hiasri33</td>\n",
              "      <td>4.99</td>\n",
              "    </tr>\n",
              "    <tr>\n",
              "      <th>493</th>\n",
              "      <td>Chanirrasta87</td>\n",
              "      <td>4.94</td>\n",
              "    </tr>\n",
              "    <tr>\n",
              "      <th>116</th>\n",
              "      <td>Lassilsala30</td>\n",
              "      <td>4.94</td>\n",
              "    </tr>\n",
              "    <tr>\n",
              "      <th>246</th>\n",
              "      <td>Lirtilsa71</td>\n",
              "      <td>4.94</td>\n",
              "    </tr>\n",
              "  </tbody>\n",
              "</table>\n",
              "</div>\n",
              "      <button class=\"colab-df-convert\" onclick=\"convertToInteractive('df-f41d4c42-4bfd-4b0b-9a97-86c70371320b')\"\n",
              "              title=\"Convert this dataframe to an interactive table.\"\n",
              "              style=\"display:none;\">\n",
              "        \n",
              "  <svg xmlns=\"http://www.w3.org/2000/svg\" height=\"24px\"viewBox=\"0 0 24 24\"\n",
              "       width=\"24px\">\n",
              "    <path d=\"M0 0h24v24H0V0z\" fill=\"none\"/>\n",
              "    <path d=\"M18.56 5.44l.94 2.06.94-2.06 2.06-.94-2.06-.94-.94-2.06-.94 2.06-2.06.94zm-11 1L8.5 8.5l.94-2.06 2.06-.94-2.06-.94L8.5 2.5l-.94 2.06-2.06.94zm10 10l.94 2.06.94-2.06 2.06-.94-2.06-.94-.94-2.06-.94 2.06-2.06.94z\"/><path d=\"M17.41 7.96l-1.37-1.37c-.4-.4-.92-.59-1.43-.59-.52 0-1.04.2-1.43.59L10.3 9.45l-7.72 7.72c-.78.78-.78 2.05 0 2.83L4 21.41c.39.39.9.59 1.41.59.51 0 1.02-.2 1.41-.59l7.78-7.78 2.81-2.81c.8-.78.8-2.07 0-2.86zM5.41 20L4 18.59l7.72-7.72 1.47 1.35L5.41 20z\"/>\n",
              "  </svg>\n",
              "      </button>\n",
              "      \n",
              "  <style>\n",
              "    .colab-df-container {\n",
              "      display:flex;\n",
              "      flex-wrap:wrap;\n",
              "      gap: 12px;\n",
              "    }\n",
              "\n",
              "    .colab-df-convert {\n",
              "      background-color: #E8F0FE;\n",
              "      border: none;\n",
              "      border-radius: 50%;\n",
              "      cursor: pointer;\n",
              "      display: none;\n",
              "      fill: #1967D2;\n",
              "      height: 32px;\n",
              "      padding: 0 0 0 0;\n",
              "      width: 32px;\n",
              "    }\n",
              "\n",
              "    .colab-df-convert:hover {\n",
              "      background-color: #E2EBFA;\n",
              "      box-shadow: 0px 1px 2px rgba(60, 64, 67, 0.3), 0px 1px 3px 1px rgba(60, 64, 67, 0.15);\n",
              "      fill: #174EA6;\n",
              "    }\n",
              "\n",
              "    [theme=dark] .colab-df-convert {\n",
              "      background-color: #3B4455;\n",
              "      fill: #D2E3FC;\n",
              "    }\n",
              "\n",
              "    [theme=dark] .colab-df-convert:hover {\n",
              "      background-color: #434B5C;\n",
              "      box-shadow: 0px 1px 3px 1px rgba(0, 0, 0, 0.15);\n",
              "      filter: drop-shadow(0px 1px 2px rgba(0, 0, 0, 0.3));\n",
              "      fill: #FFFFFF;\n",
              "    }\n",
              "  </style>\n",
              "\n",
              "      <script>\n",
              "        const buttonEl =\n",
              "          document.querySelector('#df-f41d4c42-4bfd-4b0b-9a97-86c70371320b button.colab-df-convert');\n",
              "        buttonEl.style.display =\n",
              "          google.colab.kernel.accessAllowed ? 'block' : 'none';\n",
              "\n",
              "        async function convertToInteractive(key) {\n",
              "          const element = document.querySelector('#df-f41d4c42-4bfd-4b0b-9a97-86c70371320b');\n",
              "          const dataTable =\n",
              "            await google.colab.kernel.invokeFunction('convertToInteractive',\n",
              "                                                     [key], {});\n",
              "          if (!dataTable) return;\n",
              "\n",
              "          const docLinkHtml = 'Like what you see? Visit the ' +\n",
              "            '<a target=\"_blank\" href=https://colab.research.google.com/notebooks/data_table.ipynb>data table notebook</a>'\n",
              "            + ' to learn more about interactive tables.';\n",
              "          element.innerHTML = '';\n",
              "          dataTable['output_type'] = 'display_data';\n",
              "          await google.colab.output.renderOutput(dataTable, element);\n",
              "          const docLink = document.createElement('div');\n",
              "          docLink.innerHTML = docLinkHtml;\n",
              "          element.appendChild(docLink);\n",
              "        }\n",
              "      </script>\n",
              "    </div>\n",
              "  </div>\n",
              "  "
            ]
          },
          "metadata": {},
          "execution_count": 381
        }
      ]
    },
    {
      "cell_type": "code",
      "source": [
        "\n",
        "new[\"Price\"].mean()  # average purchase value of top 5 spenders"
      ],
      "metadata": {
        "colab": {
          "base_uri": "https://localhost:8080/"
        },
        "id": "hVdBfgAvIjFm",
        "outputId": "50e0df06-5fc8-4d2e-f309-a27d20b0aa84"
      },
      "execution_count": 382,
      "outputs": [
        {
          "output_type": "execute_result",
          "data": {
            "text/plain": [
              "4.960000000000001"
            ]
          },
          "metadata": {},
          "execution_count": 382
        }
      ]
    },
    {
      "cell_type": "code",
      "source": [
        "new['Price'].sum() #total Purchase value of top 5 spenders"
      ],
      "metadata": {
        "colab": {
          "base_uri": "https://localhost:8080/"
        },
        "id": "cBy9WrpnkbWF",
        "outputId": "e7803a51-1d0f-44b3-cd36-1d991c03f7ed"
      },
      "execution_count": 383,
      "outputs": [
        {
          "output_type": "execute_result",
          "data": {
            "text/plain": [
              "24.800000000000004"
            ]
          },
          "metadata": {},
          "execution_count": 383
        }
      ]
    },
    {
      "cell_type": "code",
      "source": [
        "filt=df['Item Name'].value_counts().nlargest(5)\n",
        "print(filt)\n"
      ],
      "metadata": {
        "colab": {
          "base_uri": "https://localhost:8080/"
        },
        "id": "y852dPvOkeHx",
        "outputId": "919af4eb-d5b8-402f-99ab-ea5defc4ceb9"
      },
      "execution_count": 384,
      "outputs": [
        {
          "output_type": "stream",
          "name": "stdout",
          "text": [
            "Final Critic                                    13\n",
            "Oathbreaker, Last Hope of the Breaking Storm    12\n",
            "Persuasion                                       9\n",
            "Nirvana                                          9\n",
            "Fiery Glass Crusader                             9\n",
            "Name: Item Name, dtype: int64\n"
          ]
        }
      ]
    },
    {
      "cell_type": "code",
      "source": [
        "filt.index"
      ],
      "metadata": {
        "colab": {
          "base_uri": "https://localhost:8080/"
        },
        "id": "mOeYCuZjpQUo",
        "outputId": "37410b36-2e45-43c3-ff89-c6419f32c6a7"
      },
      "execution_count": 388,
      "outputs": [
        {
          "output_type": "execute_result",
          "data": {
            "text/plain": [
              "Index(['Final Critic', 'Oathbreaker, Last Hope of the Breaking Storm',\n",
              "       'Persuasion', 'Nirvana', 'Fiery Glass Crusader'],\n",
              "      dtype='object')"
            ]
          },
          "metadata": {},
          "execution_count": 388
        }
      ]
    },
    {
      "cell_type": "code",
      "source": [
        ""
      ],
      "metadata": {
        "id": "0s65F8ZL8SWq"
      },
      "execution_count": 388,
      "outputs": []
    },
    {
      "cell_type": "code",
      "source": [
        "\n",
        "filt=df['Item Name'].isin(filt.index)"
      ],
      "metadata": {
        "id": "A_AwhnPww7EZ"
      },
      "execution_count": 389,
      "outputs": []
    },
    {
      "cell_type": "code",
      "source": [
        "df[filt]['Price'].sum()  # purchase value for popular 5"
      ],
      "metadata": {
        "colab": {
          "base_uri": "https://localhost:8080/"
        },
        "id": "9W1w4i8O5aa_",
        "outputId": "cc4105bb-2861-4261-f567-dbbf06b48a6e"
      },
      "execution_count": 390,
      "outputs": [
        {
          "output_type": "execute_result",
          "data": {
            "text/plain": [
              "225.06"
            ]
          },
          "metadata": {},
          "execution_count": 390
        }
      ]
    },
    {
      "cell_type": "code",
      "source": [
        "df[filt]['Item ID'].unique() # Item ID of top Most"
      ],
      "metadata": {
        "colab": {
          "base_uri": "https://localhost:8080/"
        },
        "id": "MzEz8QW6y8dL",
        "outputId": "3067e643-7716-4811-99bb-f60cae28f861"
      },
      "execution_count": 391,
      "outputs": [
        {
          "output_type": "execute_result",
          "data": {
            "text/plain": [
              "array([101, 178,  92, 145,  82, 141, 132])"
            ]
          },
          "metadata": {},
          "execution_count": 391
        }
      ]
    },
    {
      "cell_type": "code",
      "source": [
        "                                    #purchase count\n",
        "df[filt][\"Purchase ID\"].count()"
      ],
      "metadata": {
        "colab": {
          "base_uri": "https://localhost:8080/"
        },
        "id": "knixeX2S03h1",
        "outputId": "4914e299-28da-4b3c-8054-e244b48dc4ef"
      },
      "execution_count": 392,
      "outputs": [
        {
          "output_type": "execute_result",
          "data": {
            "text/plain": [
              "52"
            ]
          },
          "metadata": {},
          "execution_count": 392
        }
      ]
    },
    {
      "cell_type": "code",
      "source": [
        ""
      ],
      "metadata": {
        "id": "e-mUQgTw5Ndl"
      },
      "execution_count": 392,
      "outputs": []
    }
  ]
}
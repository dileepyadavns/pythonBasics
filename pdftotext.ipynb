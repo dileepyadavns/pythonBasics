{
  "nbformat": 4,
  "nbformat_minor": 0,
  "metadata": {
    "colab": {
      "name": "pdftotext.ipynb",
      "provenance": []
    },
    "kernelspec": {
      "name": "python3",
      "display_name": "Python 3"
    },
    "language_info": {
      "name": "python"
    }
  },
  "cells": [
    {
      "cell_type": "code",
      "execution_count": 1,
      "metadata": {
        "colab": {
          "base_uri": "https://localhost:8080/"
        },
        "id": "Ln2WccnFe-_s",
        "outputId": "f874e90e-4852-447c-beb2-abc9b3c80c41"
      },
      "outputs": [
        {
          "output_type": "stream",
          "name": "stdout",
          "text": [
            "Collecting PyPDF2\n",
            "  Downloading PyPDF2-1.26.0.tar.gz (77 kB)\n",
            "\u001b[?25l\r\u001b[K     |████▎                           | 10 kB 17.7 MB/s eta 0:00:01\r\u001b[K     |████████▌                       | 20 kB 11.4 MB/s eta 0:00:01\r\u001b[K     |████████████▊                   | 30 kB 6.6 MB/s eta 0:00:01\r\u001b[K     |█████████████████               | 40 kB 6.1 MB/s eta 0:00:01\r\u001b[K     |█████████████████████▏          | 51 kB 4.3 MB/s eta 0:00:01\r\u001b[K     |█████████████████████████▍      | 61 kB 5.0 MB/s eta 0:00:01\r\u001b[K     |█████████████████████████████▋  | 71 kB 5.3 MB/s eta 0:00:01\r\u001b[K     |████████████████████████████████| 77 kB 2.3 MB/s \n",
            "\u001b[?25hBuilding wheels for collected packages: PyPDF2\n",
            "  Building wheel for PyPDF2 (setup.py) ... \u001b[?25l\u001b[?25hdone\n",
            "  Created wheel for PyPDF2: filename=PyPDF2-1.26.0-py3-none-any.whl size=61102 sha256=4fa51cb784f77bdec140766366f4e1f29845af90e0bbc4777dcbfde305a03292\n",
            "  Stored in directory: /root/.cache/pip/wheels/80/1a/24/648467ade3a77ed20f35cfd2badd32134e96dd25ca811e64b3\n",
            "Successfully built PyPDF2\n",
            "Installing collected packages: PyPDF2\n",
            "Successfully installed PyPDF2-1.26.0\n"
          ]
        }
      ],
      "source": [
        "!pip install PyPDF2"
      ]
    },
    {
      "cell_type": "code",
      "source": [
        "import PyPDF2"
      ],
      "metadata": {
        "id": "GSlgioMpfEd_"
      },
      "execution_count": 2,
      "outputs": []
    },
    {
      "cell_type": "code",
      "source": [
        "pdfFileObj = open('/content/sample.pdf', 'rb')"
      ],
      "metadata": {
        "id": "_--xoagffLGg"
      },
      "execution_count": 10,
      "outputs": []
    },
    {
      "cell_type": "code",
      "source": [
        "print(pdfFileObj)"
      ],
      "metadata": {
        "colab": {
          "base_uri": "https://localhost:8080/"
        },
        "id": "E9FEBZriqcZK",
        "outputId": "dc4bca38-a265-4049-b64e-c1c9fb24d0e3"
      },
      "execution_count": 53,
      "outputs": [
        {
          "output_type": "stream",
          "name": "stdout",
          "text": [
            "<_io.BufferedReader name='/content/sample.pdf'>\n"
          ]
        }
      ]
    },
    {
      "cell_type": "code",
      "source": [
        "pdfReader = PyPDF2.PdfFileReader(pdfFileObj)"
      ],
      "metadata": {
        "id": "K-eRM9CRgo0O"
      },
      "execution_count": 11,
      "outputs": []
    },
    {
      "cell_type": "code",
      "source": [
        "n=pdfReader.numPages"
      ],
      "metadata": {
        "id": "CDqqCdVpjNrd"
      },
      "execution_count": 23,
      "outputs": []
    },
    {
      "cell_type": "code",
      "source": [
        "print(n)"
      ],
      "metadata": {
        "colab": {
          "base_uri": "https://localhost:8080/"
        },
        "id": "nSr-oVvEjSdE",
        "outputId": "18450f60-6157-4450-9cd4-341df62d3041"
      },
      "execution_count": 24,
      "outputs": [
        {
          "output_type": "stream",
          "name": "stdout",
          "text": [
            "2\n"
          ]
        }
      ]
    },
    {
      "cell_type": "code",
      "source": [
        "textfile= open('textfile.txt','w') "
      ],
      "metadata": {
        "id": "eYSywgggjooa"
      },
      "execution_count": 25,
      "outputs": []
    },
    {
      "cell_type": "code",
      "source": [
        "for i in range(n):\n",
        "  \n",
        "  content=pdfReader.getPage(i).extractText()\n",
        "  print(content)\n",
        "  textfile.write(content)\n",
        "  textfile.write('\\n')\n"
      ],
      "metadata": {
        "colab": {
          "base_uri": "https://localhost:8080/"
        },
        "id": "2IQcWXI7jUya",
        "outputId": "b91432aa-3934-4d46-eb51-68e794ff821c"
      },
      "execution_count": 36,
      "outputs": [
        {
          "output_type": "stream",
          "name": "stdout",
          "text": [
            " A Simple PDF File  This is a small demonstration .pdf file -  just for use in the Virtual Mechanics tutorials. More text. And more  text. And more text. And more text. And more text.  And more text. And more text. And more text. And more text. And more  text. And more text. Boring, zzzzz. And more text. And more text. And  more text. And more text. And more text. And more text. And more text.  And more text. And more text.  And more text. And more text. And more text. And more text. And more  text. And more text. And more text. Even more. Continued on page 2 ...\n",
            " Simple PDF File 2  ...continued from page 1. Yet more text. And more text. And more text.  And more text. And more text. And more text. And more text. And more  text. Oh, how boring typing this stuff. But not as boring as watching  paint dry. And more text. And more text. And more text. And more text.  Boring.  More, a little more text. The end, and just as well. \n"
          ]
        }
      ]
    },
    {
      "cell_type": "code",
      "source": [
        "file=open('textfile.txt','r')"
      ],
      "metadata": {
        "id": "qgNZevHmiCNh"
      },
      "execution_count": 41,
      "outputs": []
    },
    {
      "cell_type": "code",
      "source": [
        "data = file.read()"
      ],
      "metadata": {
        "id": "b_geTh5LnSTl"
      },
      "execution_count": 42,
      "outputs": []
    },
    {
      "cell_type": "code",
      "source": [
        "def seaching_Word(sw):\n",
        "  if sw in data:\n",
        "    occurrences = data.count(sw)\n",
        "    return occurrences\n",
        "  else:\n",
        "    return \"Not found matched word\""
      ],
      "metadata": {
        "id": "3MlAyZqIoeme"
      },
      "execution_count": 49,
      "outputs": []
    },
    {
      "cell_type": "code",
      "source": [
        "sw=input(\"Enter the word to search\")\n",
        "print(seaching_Word(sw))"
      ],
      "metadata": {
        "colab": {
          "base_uri": "https://localhost:8080/"
        },
        "id": "-hGZTNY1pUAh",
        "outputId": "5d833fc1-1153-4e75-9410-2c1bf41a7e6c"
      },
      "execution_count": 54,
      "outputs": [
        {
          "output_type": "stream",
          "name": "stdout",
          "text": [
            "Enter the word to searchPDF\n",
            "18\n"
          ]
        }
      ]
    }
  ]
}
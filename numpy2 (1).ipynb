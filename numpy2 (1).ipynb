{
  "nbformat": 4,
  "nbformat_minor": 0,
  "metadata": {
    "colab": {
      "name": "numpy2.ipynb",
      "provenance": [],
      "collapsed_sections": []
    },
    "kernelspec": {
      "name": "python3",
      "display_name": "Python 3"
    },
    "language_info": {
      "name": "python"
    }
  },
  "cells": [
    {
      "cell_type": "code",
      "execution_count": 1,
      "metadata": {
        "id": "P3p_sBy9vedw"
      },
      "outputs": [],
      "source": [
        "import numpy as np"
      ]
    },
    {
      "cell_type": "code",
      "source": [
        "a=np.array([1,34,5])"
      ],
      "metadata": {
        "id": "bueKQywPvgz1"
      },
      "execution_count": 2,
      "outputs": []
    },
    {
      "cell_type": "code",
      "source": [
        "print(a)"
      ],
      "metadata": {
        "colab": {
          "base_uri": "https://localhost:8080/"
        },
        "id": "DPUkAoO4vp9p",
        "outputId": "4b20c7ae-face-4b26-c1cd-904a39beb2f8"
      },
      "execution_count": 3,
      "outputs": [
        {
          "output_type": "stream",
          "name": "stdout",
          "text": [
            "[ 1 34  5]\n"
          ]
        }
      ]
    },
    {
      "cell_type": "code",
      "source": [
        "b=np.array(56) # Zero Dimensional Array "
      ],
      "metadata": {
        "id": "aRWBdk9-vrMX"
      },
      "execution_count": 4,
      "outputs": []
    },
    {
      "cell_type": "code",
      "source": [
        "c=np.array([1,2,3]) # array of 0D Elements is 1D Array"
      ],
      "metadata": {
        "id": "3xkemRzhv4SZ"
      },
      "execution_count": 5,
      "outputs": []
    },
    {
      "cell_type": "code",
      "source": [
        "d=np.array([[1,2,3],[10,12,15]]) #Array of 1D elements is 2D Array"
      ],
      "metadata": {
        "id": "JILTM9cUv_5y"
      },
      "execution_count": 6,
      "outputs": []
    },
    {
      "cell_type": "code",
      "source": [
        "e=np.array([[[1,2,3],[10,12,15]],[[1,4,3],[10,10,15]]])"
      ],
      "metadata": {
        "id": "8xUW570iwhhX"
      },
      "execution_count": 7,
      "outputs": []
    },
    {
      "cell_type": "code",
      "source": [
        "#To find the dimensions of Array\n",
        "print(a.ndim)\n",
        "print(b.ndim)\n",
        "print(c.ndim)\n",
        "print(d.ndim)\n",
        "print(e.ndim)\n"
      ],
      "metadata": {
        "colab": {
          "base_uri": "https://localhost:8080/"
        },
        "id": "HX5w2Ac4vlpY",
        "outputId": "4af7f806-a18c-4175-eabf-d1ff610d1b2f"
      },
      "execution_count": 8,
      "outputs": [
        {
          "output_type": "stream",
          "name": "stdout",
          "text": [
            "1\n",
            "0\n",
            "1\n",
            "2\n",
            "3\n"
          ]
        }
      ]
    },
    {
      "cell_type": "code",
      "source": [
        "print(type(e))"
      ],
      "metadata": {
        "colab": {
          "base_uri": "https://localhost:8080/"
        },
        "id": "ZlHAEWSIyLEP",
        "outputId": "dedd830b-e857-4d4b-d401-9287951f510c"
      },
      "execution_count": 9,
      "outputs": [
        {
          "output_type": "stream",
          "name": "stdout",
          "text": [
            "<class 'numpy.ndarray'>\n"
          ]
        }
      ]
    },
    {
      "cell_type": "markdown",
      "source": [
        "Creation of Existing Array"
      ],
      "metadata": {
        "id": "KtcKNScgzCWY"
      }
    },
    {
      "cell_type": "code",
      "source": [
        "# np.asarray(input.dtype,order) \"C=row major order,\"F\"=Column major order\n",
        "\n",
        "l=[1,2,3]\n",
        "a=np.asarray(l,float,\"C\")"
      ],
      "metadata": {
        "id": "tDPUAc-5yqIx"
      },
      "execution_count": 10,
      "outputs": []
    },
    {
      "cell_type": "code",
      "source": [
        "print(a)"
      ],
      "metadata": {
        "colab": {
          "base_uri": "https://localhost:8080/"
        },
        "id": "iCiEQjSn0aLZ",
        "outputId": "7155219d-6ae5-48ea-8519-082909871d21"
      },
      "execution_count": 11,
      "outputs": [
        {
          "output_type": "stream",
          "name": "stdout",
          "text": [
            "[1. 2. 3.]\n"
          ]
        }
      ]
    },
    {
      "cell_type": "code",
      "source": [
        "l=[[1,2,3],[6,7,2]]\n",
        "b=np.asarray(l,dtype=float,order=\"F\")\n"
      ],
      "metadata": {
        "id": "n-MX964l0cMz"
      },
      "execution_count": 12,
      "outputs": []
    },
    {
      "cell_type": "code",
      "source": [
        "print(b)"
      ],
      "metadata": {
        "colab": {
          "base_uri": "https://localhost:8080/"
        },
        "id": "6aKteuCR0zvP",
        "outputId": "1a98e7b4-8042-4e2c-ffc7-e88201c066b4"
      },
      "execution_count": 13,
      "outputs": [
        {
          "output_type": "stream",
          "name": "stdout",
          "text": [
            "[[1. 2. 3.]\n",
            " [6. 7. 2.]]\n"
          ]
        }
      ]
    },
    {
      "cell_type": "code",
      "source": [
        "for i in np.nditer(b):\n",
        "  print(i)     # by printing the each value u will come to which order it is followingh "
      ],
      "metadata": {
        "colab": {
          "base_uri": "https://localhost:8080/"
        },
        "id": "qfMJKtd501j9",
        "outputId": "5a56fd08-bf7a-475d-a04e-b6b3654a36a9"
      },
      "execution_count": 14,
      "outputs": [
        {
          "output_type": "stream",
          "name": "stdout",
          "text": [
            "1.0\n",
            "6.0\n",
            "2.0\n",
            "7.0\n",
            "3.0\n",
            "2.0\n"
          ]
        }
      ]
    },
    {
      "cell_type": "code",
      "source": [
        "b=np.asarray(l,dtype=float,order=\"C\")\n"
      ],
      "metadata": {
        "id": "yM_NB3J34MRD"
      },
      "execution_count": 15,
      "outputs": []
    },
    {
      "cell_type": "code",
      "source": [
        "for i in np.nditer(b):\n",
        "  print(i)"
      ],
      "metadata": {
        "colab": {
          "base_uri": "https://localhost:8080/"
        },
        "id": "e_3mS7eR4U2X",
        "outputId": "e2946f5a-86a2-4bd1-d1f2-11fd5815147a"
      },
      "execution_count": 16,
      "outputs": [
        {
          "output_type": "stream",
          "name": "stdout",
          "text": [
            "1.0\n",
            "2.0\n",
            "3.0\n",
            "6.0\n",
            "7.0\n",
            "2.0\n"
          ]
        }
      ]
    },
    {
      "cell_type": "code",
      "source": [
        ""
      ],
      "metadata": {
        "id": "Ip7e_Hgk4Xfa"
      },
      "execution_count": 16,
      "outputs": []
    },
    {
      "cell_type": "code",
      "source": [
        "m=b\"dillep\"\n",
        "c=np.frombuffer(m, dtype=\"S1\", count=-1,offset=0)"
      ],
      "metadata": {
        "id": "oCyvsAu63qdK"
      },
      "execution_count": 17,
      "outputs": []
    },
    {
      "cell_type": "code",
      "source": [
        "print(c)"
      ],
      "metadata": {
        "colab": {
          "base_uri": "https://localhost:8080/"
        },
        "id": "2vtk4HOz4AG5",
        "outputId": "9d990f0a-f08c-4359-8093-e0251146715f"
      },
      "execution_count": 18,
      "outputs": [
        {
          "output_type": "stream",
          "name": "stdout",
          "text": [
            "[b'd' b'i' b'l' b'l' b'e' b'p']\n"
          ]
        }
      ]
    },
    {
      "cell_type": "code",
      "source": [
        "m=b\"dillep\"\n",
        "c=np.frombuffer(m, dtype=\"S1\", count=-1,offset=3)"
      ],
      "metadata": {
        "id": "e5pek9oZ0V79"
      },
      "execution_count": 19,
      "outputs": []
    },
    {
      "cell_type": "code",
      "source": [
        "print(c)"
      ],
      "metadata": {
        "colab": {
          "base_uri": "https://localhost:8080/"
        },
        "id": "ZNDGhpvH46Pk",
        "outputId": "f82e2675-89b6-4f02-c0cd-fde7c545e95e"
      },
      "execution_count": 20,
      "outputs": [
        {
          "output_type": "stream",
          "name": "stdout",
          "text": [
            "[b'l' b'e' b'p']\n"
          ]
        }
      ]
    },
    {
      "cell_type": "code",
      "source": [
        "m=b\"dillep\"\n",
        "c=np.frombuffer(m, dtype=\"S1\", count=5,offset=0)  # given count as 5"
      ],
      "metadata": {
        "id": "8pq4dFYk48no"
      },
      "execution_count": 21,
      "outputs": []
    },
    {
      "cell_type": "code",
      "source": [
        "print(c)"
      ],
      "metadata": {
        "colab": {
          "base_uri": "https://localhost:8080/"
        },
        "id": "-0i7dnrO5ApY",
        "outputId": "0fb0b869-daa0-43fb-8168-1107b2dd51f6"
      },
      "execution_count": 22,
      "outputs": [
        {
          "output_type": "stream",
          "name": "stdout",
          "text": [
            "[b'd' b'i' b'l' b'l' b'e']\n"
          ]
        }
      ]
    },
    {
      "cell_type": "code",
      "source": [
        "m='dileep'"
      ],
      "metadata": {
        "id": "K13aKP7B5Q-Z"
      },
      "execution_count": 23,
      "outputs": []
    },
    {
      "cell_type": "code",
      "source": [
        "c=np.fromiter(m,dtype='S1')"
      ],
      "metadata": {
        "id": "4kGyAKQz5RHZ"
      },
      "execution_count": 24,
      "outputs": []
    },
    {
      "cell_type": "code",
      "source": [
        "print(c)"
      ],
      "metadata": {
        "colab": {
          "base_uri": "https://localhost:8080/"
        },
        "id": "-ZKz3auT5c_5",
        "outputId": "3a7e4af0-4847-40bc-ec9e-7eadf30b8812"
      },
      "execution_count": 25,
      "outputs": [
        {
          "output_type": "stream",
          "name": "stdout",
          "text": [
            "[b'd' b'i' b'l' b'e' b'e' b'p']\n"
          ]
        }
      ]
    },
    {
      "cell_type": "code",
      "source": [
        "m=[1,2,3]"
      ],
      "metadata": {
        "id": "RZqxixoV9PpD"
      },
      "execution_count": 26,
      "outputs": []
    },
    {
      "cell_type": "code",
      "source": [
        "c=np.fromiter(m,dtype='float',count=-1)"
      ],
      "metadata": {
        "id": "ZEhMw39L9ObA"
      },
      "execution_count": 27,
      "outputs": []
    },
    {
      "cell_type": "code",
      "source": [
        "print(c)"
      ],
      "metadata": {
        "colab": {
          "base_uri": "https://localhost:8080/"
        },
        "id": "6mVNJtHI9VDC",
        "outputId": "ff1121eb-e84a-41ea-c5d8-bc6c097a11b6"
      },
      "execution_count": 28,
      "outputs": [
        {
          "output_type": "stream",
          "name": "stdout",
          "text": [
            "[1. 2. 3.]\n"
          ]
        }
      ]
    },
    {
      "cell_type": "markdown",
      "source": [
        "Arange,linespace,logspace"
      ],
      "metadata": {
        "id": "fsGcWzyJ-BOn"
      }
    },
    {
      "cell_type": "code",
      "source": [
        "np.arange(1,10,2,int)"
      ],
      "metadata": {
        "colab": {
          "base_uri": "https://localhost:8080/"
        },
        "id": "iB1oCzO99lzt",
        "outputId": "f0a6e3dc-fde5-450f-fa42-c1bacd4949ef"
      },
      "execution_count": 29,
      "outputs": [
        {
          "output_type": "execute_result",
          "data": {
            "text/plain": [
              "array([1, 3, 5, 7, 9])"
            ]
          },
          "metadata": {},
          "execution_count": 29
        }
      ]
    },
    {
      "cell_type": "code",
      "source": [
        "np.arange(1,10,2,float)"
      ],
      "metadata": {
        "colab": {
          "base_uri": "https://localhost:8080/"
        },
        "id": "VA3ISRI9-WUE",
        "outputId": "17b27306-b923-4cd9-83d4-f7479024e652"
      },
      "execution_count": 30,
      "outputs": [
        {
          "output_type": "execute_result",
          "data": {
            "text/plain": [
              "array([1., 3., 5., 7., 9.])"
            ]
          },
          "metadata": {},
          "execution_count": 30
        }
      ]
    },
    {
      "cell_type": "code",
      "source": [
        "np.linspace(1,20,20,True,True)  #linspace(start,stop,num,endpoint,retstep,dtype)  => 'num is the number of values betweeen intervals default=50\n",
        "\n",
        "                       # 'endpoint=>true or false which is whether to include stopindex or not. default=True\n",
        " \n",
        "                       # 'retstep' => difference between the elements (True/False) default value False\n",
        "\n",
        "                       #'dtype'=> float/int "
      ],
      "metadata": {
        "colab": {
          "base_uri": "https://localhost:8080/"
        },
        "id": "cQ01TgyH-bhY",
        "outputId": "690876c7-2be1-41ec-a46c-abfd904291fe"
      },
      "execution_count": 31,
      "outputs": [
        {
          "output_type": "execute_result",
          "data": {
            "text/plain": [
              "(array([ 1.,  2.,  3.,  4.,  5.,  6.,  7.,  8.,  9., 10., 11., 12., 13.,\n",
              "        14., 15., 16., 17., 18., 19., 20.]), 1.0)"
            ]
          },
          "metadata": {},
          "execution_count": 31
        }
      ]
    },
    {
      "cell_type": "code",
      "source": [
        "np.linspace(1,20,20,endpoint=False,retstep=True)"
      ],
      "metadata": {
        "colab": {
          "base_uri": "https://localhost:8080/"
        },
        "id": "GAzJx2pR_piT",
        "outputId": "ee126525-b7db-4b8e-dda4-433403598ad5"
      },
      "execution_count": 32,
      "outputs": [
        {
          "output_type": "execute_result",
          "data": {
            "text/plain": [
              "(array([ 1.  ,  1.95,  2.9 ,  3.85,  4.8 ,  5.75,  6.7 ,  7.65,  8.6 ,\n",
              "         9.55, 10.5 , 11.45, 12.4 , 13.35, 14.3 , 15.25, 16.2 , 17.15,\n",
              "        18.1 , 19.05]), 0.95)"
            ]
          },
          "metadata": {},
          "execution_count": 32
        }
      ]
    },
    {
      "cell_type": "code",
      "source": [
        "np.logspace(1,20,20,base=2,endpoint=True) ##logspace(start,stop,num,endpoint,base,dtype)"
      ],
      "metadata": {
        "colab": {
          "base_uri": "https://localhost:8080/"
        },
        "id": "GfBxrSJ6_734",
        "outputId": "5cb22c4e-75d1-448c-eecd-5b9ee2a21eeb"
      },
      "execution_count": 33,
      "outputs": [
        {
          "output_type": "execute_result",
          "data": {
            "text/plain": [
              "array([2.000000e+00, 4.000000e+00, 8.000000e+00, 1.600000e+01,\n",
              "       3.200000e+01, 6.400000e+01, 1.280000e+02, 2.560000e+02,\n",
              "       5.120000e+02, 1.024000e+03, 2.048000e+03, 4.096000e+03,\n",
              "       8.192000e+03, 1.638400e+04, 3.276800e+04, 6.553600e+04,\n",
              "       1.310720e+05, 2.621440e+05, 5.242880e+05, 1.048576e+06])"
            ]
          },
          "metadata": {},
          "execution_count": 33
        }
      ]
    },
    {
      "cell_type": "markdown",
      "source": [
        "zeros,full,ones,eye"
      ],
      "metadata": {
        "id": "jJG8sipKBH--"
      }
    },
    {
      "cell_type": "code",
      "source": [
        "np.shape(a)"
      ],
      "metadata": {
        "colab": {
          "base_uri": "https://localhost:8080/"
        },
        "id": "p4sJ34b7BRFd",
        "outputId": "3d440595-8785-4dbc-bc16-b2129b0b9e15"
      },
      "execution_count": 34,
      "outputs": [
        {
          "output_type": "execute_result",
          "data": {
            "text/plain": [
              "(3,)"
            ]
          },
          "metadata": {},
          "execution_count": 34
        }
      ]
    },
    {
      "cell_type": "code",
      "source": [
        "b.shape"
      ],
      "metadata": {
        "colab": {
          "base_uri": "https://localhost:8080/"
        },
        "id": "vYIx09cJBbfP",
        "outputId": "27d5be72-f86f-4fba-b986-a3f5aad21d41"
      },
      "execution_count": 35,
      "outputs": [
        {
          "output_type": "execute_result",
          "data": {
            "text/plain": [
              "(2, 3)"
            ]
          },
          "metadata": {},
          "execution_count": 35
        }
      ]
    },
    {
      "cell_type": "code",
      "source": [
        "np.zeros((2,4),dtype=int)"
      ],
      "metadata": {
        "colab": {
          "base_uri": "https://localhost:8080/"
        },
        "id": "m1hFSy_DAu6_",
        "outputId": "cdfc3fd3-6de4-4566-f7f6-6abdf6339878"
      },
      "execution_count": 36,
      "outputs": [
        {
          "output_type": "execute_result",
          "data": {
            "text/plain": [
              "array([[0, 0, 0, 0],\n",
              "       [0, 0, 0, 0]])"
            ]
          },
          "metadata": {},
          "execution_count": 36
        }
      ]
    },
    {
      "cell_type": "code",
      "source": [
        "np.ones((3,3),dtype=int)"
      ],
      "metadata": {
        "colab": {
          "base_uri": "https://localhost:8080/"
        },
        "id": "65r7L2StB0jj",
        "outputId": "352b3816-3546-4c86-db66-2e089cf76eb8"
      },
      "execution_count": 37,
      "outputs": [
        {
          "output_type": "execute_result",
          "data": {
            "text/plain": [
              "array([[1, 1, 1],\n",
              "       [1, 1, 1],\n",
              "       [1, 1, 1]])"
            ]
          },
          "metadata": {},
          "execution_count": 37
        }
      ]
    },
    {
      "cell_type": "code",
      "source": [
        "np.full((5,5),50) #full(shape, num)=> num is the elemntwe want in array"
      ],
      "metadata": {
        "colab": {
          "base_uri": "https://localhost:8080/"
        },
        "id": "33mqsVyGB8JZ",
        "outputId": "5dca75a9-0cf8-4de6-b42f-395882d2d306"
      },
      "execution_count": 38,
      "outputs": [
        {
          "output_type": "execute_result",
          "data": {
            "text/plain": [
              "array([[50, 50, 50, 50, 50],\n",
              "       [50, 50, 50, 50, 50],\n",
              "       [50, 50, 50, 50, 50],\n",
              "       [50, 50, 50, 50, 50],\n",
              "       [50, 50, 50, 50, 50]])"
            ]
          },
          "metadata": {},
          "execution_count": 38
        }
      ]
    },
    {
      "cell_type": "code",
      "source": [
        "np.eye(6)  #np.eye(rows/colums) rows=colums"
      ],
      "metadata": {
        "colab": {
          "base_uri": "https://localhost:8080/"
        },
        "id": "j2PPeTXlCNDn",
        "outputId": "8129c2c6-521b-4c98-eeab-46e5efdd2640"
      },
      "execution_count": 39,
      "outputs": [
        {
          "output_type": "execute_result",
          "data": {
            "text/plain": [
              "array([[1., 0., 0., 0., 0., 0.],\n",
              "       [0., 1., 0., 0., 0., 0.],\n",
              "       [0., 0., 1., 0., 0., 0.],\n",
              "       [0., 0., 0., 1., 0., 0.],\n",
              "       [0., 0., 0., 0., 1., 0.],\n",
              "       [0., 0., 0., 0., 0., 1.]])"
            ]
          },
          "metadata": {},
          "execution_count": 39
        }
      ]
    },
    {
      "cell_type": "code",
      "source": [
        "a=[1,1,2,3,4,5,6,8,9]"
      ],
      "metadata": {
        "id": "KSZBkTV2CggX"
      },
      "execution_count": 40,
      "outputs": []
    },
    {
      "cell_type": "code",
      "source": [
        "np.reshape(a,(3,3))"
      ],
      "metadata": {
        "colab": {
          "base_uri": "https://localhost:8080/"
        },
        "id": "q-ffSStsDjCL",
        "outputId": "f358f302-938c-4f40-d6ea-f6bc2cd9c6a5"
      },
      "execution_count": 41,
      "outputs": [
        {
          "output_type": "execute_result",
          "data": {
            "text/plain": [
              "array([[1, 1, 2],\n",
              "       [3, 4, 5],\n",
              "       [6, 8, 9]])"
            ]
          },
          "metadata": {},
          "execution_count": 41
        }
      ]
    },
    {
      "cell_type": "code",
      "source": [
        "np.reshape(a,(9,1))"
      ],
      "metadata": {
        "colab": {
          "base_uri": "https://localhost:8080/"
        },
        "id": "RGWjNPUVDmK9",
        "outputId": "7688f7aa-ceab-4f05-f895-dc90189e8f91"
      },
      "execution_count": 42,
      "outputs": [
        {
          "output_type": "execute_result",
          "data": {
            "text/plain": [
              "array([[1],\n",
              "       [1],\n",
              "       [2],\n",
              "       [3],\n",
              "       [4],\n",
              "       [5],\n",
              "       [6],\n",
              "       [8],\n",
              "       [9]])"
            ]
          },
          "metadata": {},
          "execution_count": 42
        }
      ]
    },
    {
      "cell_type": "markdown",
      "source": [
        "Accessing & Slicing"
      ],
      "metadata": {
        "id": "yLe79iruEb9M"
      }
    },
    {
      "cell_type": "code",
      "source": [
        "e=np.array([[[1,2,3],[10,12,15]],[[1,4,3],[10,10,15]]])\n",
        "d=np.array([[1,2,3],[10,12,15]])\n",
        "c=np.array([1,2,3])"
      ],
      "metadata": {
        "id": "tH8lqGyIEezs"
      },
      "execution_count": 43,
      "outputs": []
    },
    {
      "cell_type": "code",
      "source": [
        "print(e[0][0][2])"
      ],
      "metadata": {
        "colab": {
          "base_uri": "https://localhost:8080/"
        },
        "id": "A9JMFKdeE02z",
        "outputId": "dc871ea2-7421-4717-85b7-e884b5299648"
      },
      "execution_count": 44,
      "outputs": [
        {
          "output_type": "stream",
          "name": "stdout",
          "text": [
            "3\n"
          ]
        }
      ]
    },
    {
      "cell_type": "code",
      "source": [
        "print(e[0][1][-1])"
      ],
      "metadata": {
        "colab": {
          "base_uri": "https://localhost:8080/"
        },
        "id": "gyW0tfVfFFEP",
        "outputId": "48af938b-772f-44bf-bb52-ba9a4b514be2"
      },
      "execution_count": 45,
      "outputs": [
        {
          "output_type": "stream",
          "name": "stdout",
          "text": [
            "15\n"
          ]
        }
      ]
    },
    {
      "cell_type": "code",
      "source": [
        "print(e[0,1,-1])"
      ],
      "metadata": {
        "colab": {
          "base_uri": "https://localhost:8080/"
        },
        "id": "udcIWc_OFMKA",
        "outputId": "bfc5a34d-f95a-4ebf-d202-3ca2ef5a44c0"
      },
      "execution_count": 46,
      "outputs": [
        {
          "output_type": "stream",
          "name": "stdout",
          "text": [
            "15\n"
          ]
        }
      ]
    },
    {
      "cell_type": "code",
      "source": [
        "print(e[0,0,2])"
      ],
      "metadata": {
        "colab": {
          "base_uri": "https://localhost:8080/"
        },
        "id": "01H0JpoXFx1t",
        "outputId": "a86cc502-4423-4864-e093-56691246c78a"
      },
      "execution_count": 47,
      "outputs": [
        {
          "output_type": "stream",
          "name": "stdout",
          "text": [
            "3\n"
          ]
        }
      ]
    },
    {
      "cell_type": "code",
      "source": [
        "print(d[0,2])"
      ],
      "metadata": {
        "colab": {
          "base_uri": "https://localhost:8080/"
        },
        "id": "MflFBXXuF2o9",
        "outputId": "3bb13364-2c0d-4430-e34e-269437fb9e02"
      },
      "execution_count": 48,
      "outputs": [
        {
          "output_type": "stream",
          "name": "stdout",
          "text": [
            "3\n"
          ]
        }
      ]
    },
    {
      "cell_type": "code",
      "source": [
        "print(e[-1,-1,-1])"
      ],
      "metadata": {
        "colab": {
          "base_uri": "https://localhost:8080/"
        },
        "id": "LOkDJs6BWHEY",
        "outputId": "069535a1-4d29-4a4b-ee1b-f5215dcd6419"
      },
      "execution_count": 49,
      "outputs": [
        {
          "output_type": "stream",
          "name": "stdout",
          "text": [
            "15\n"
          ]
        }
      ]
    },
    {
      "cell_type": "code",
      "source": [
        "a[::]"
      ],
      "metadata": {
        "colab": {
          "base_uri": "https://localhost:8080/"
        },
        "id": "a7yr3jF-WKYY",
        "outputId": "0eaaf3db-40af-4592-fd58-949e31cd0007"
      },
      "execution_count": 50,
      "outputs": [
        {
          "output_type": "execute_result",
          "data": {
            "text/plain": [
              "[1, 1, 2, 3, 4, 5, 6, 8, 9]"
            ]
          },
          "metadata": {},
          "execution_count": 50
        }
      ]
    },
    {
      "cell_type": "code",
      "source": [
        "a"
      ],
      "metadata": {
        "colab": {
          "base_uri": "https://localhost:8080/"
        },
        "id": "ECPb0z5HWmWv",
        "outputId": "b9f8a0b2-06c6-4baf-ab8e-1102fc893b78"
      },
      "execution_count": 51,
      "outputs": [
        {
          "output_type": "execute_result",
          "data": {
            "text/plain": [
              "[1, 1, 2, 3, 4, 5, 6, 8, 9]"
            ]
          },
          "metadata": {},
          "execution_count": 51
        }
      ]
    },
    {
      "cell_type": "code",
      "source": [
        "a[:5:2]"
      ],
      "metadata": {
        "colab": {
          "base_uri": "https://localhost:8080/"
        },
        "id": "x3J1659YW0xT",
        "outputId": "15ad3090-6935-4a24-b67d-453746416446"
      },
      "execution_count": 52,
      "outputs": [
        {
          "output_type": "execute_result",
          "data": {
            "text/plain": [
              "[1, 2, 4]"
            ]
          },
          "metadata": {},
          "execution_count": 52
        }
      ]
    },
    {
      "cell_type": "code",
      "source": [
        "d=np.array([[1,2,3],[10,12,15]])"
      ],
      "metadata": {
        "id": "i7BAjLNqX2a2"
      },
      "execution_count": 53,
      "outputs": []
    },
    {
      "cell_type": "code",
      "source": [
        "d[1,1]"
      ],
      "metadata": {
        "colab": {
          "base_uri": "https://localhost:8080/"
        },
        "id": "zBayFivpYL7c",
        "outputId": "3e7b7b93-66e7-4187-ad3b-540c41eeb5db"
      },
      "execution_count": 54,
      "outputs": [
        {
          "output_type": "execute_result",
          "data": {
            "text/plain": [
              "12"
            ]
          },
          "metadata": {},
          "execution_count": 54
        }
      ]
    },
    {
      "cell_type": "code",
      "source": [
        "d[0:2,0:2]"
      ],
      "metadata": {
        "colab": {
          "base_uri": "https://localhost:8080/"
        },
        "id": "nvlFCCMnX3O7",
        "outputId": "05504fb4-6c5e-4262-dcf5-2452eaa4f5bb"
      },
      "execution_count": 55,
      "outputs": [
        {
          "output_type": "execute_result",
          "data": {
            "text/plain": [
              "array([[ 1,  2],\n",
              "       [10, 12]])"
            ]
          },
          "metadata": {},
          "execution_count": 55
        }
      ]
    },
    {
      "cell_type": "code",
      "source": [
        "e=np.array([[[1,2,3],[10,12,15]],[[1,4,3],[10,10,15]]])"
      ],
      "metadata": {
        "id": "h2crLjWMXDAe"
      },
      "execution_count": 56,
      "outputs": []
    },
    {
      "cell_type": "code",
      "source": [
        "e[1,1,:2]"
      ],
      "metadata": {
        "colab": {
          "base_uri": "https://localhost:8080/"
        },
        "id": "tawmplJ1XDfu",
        "outputId": "3c4526d3-616c-4548-c9ad-ec5ef7e3416f"
      },
      "execution_count": 57,
      "outputs": [
        {
          "output_type": "execute_result",
          "data": {
            "text/plain": [
              "array([10, 10])"
            ]
          },
          "metadata": {},
          "execution_count": 57
        }
      ]
    },
    {
      "cell_type": "code",
      "source": [
        "e[:2,:2,:2]"
      ],
      "metadata": {
        "colab": {
          "base_uri": "https://localhost:8080/"
        },
        "id": "Tbezo3qJYwVn",
        "outputId": "bc988299-f629-468b-9a12-bb6f925a93f7"
      },
      "execution_count": 58,
      "outputs": [
        {
          "output_type": "execute_result",
          "data": {
            "text/plain": [
              "array([[[ 1,  2],\n",
              "        [10, 12]],\n",
              "\n",
              "       [[ 1,  4],\n",
              "        [10, 10]]])"
            ]
          },
          "metadata": {},
          "execution_count": 58
        }
      ]
    },
    {
      "cell_type": "code",
      "source": [
        "d=[[10,2,12],[5,30,20]]"
      ],
      "metadata": {
        "id": "1ZALphgHb50p"
      },
      "execution_count": 59,
      "outputs": []
    },
    {
      "cell_type": "code",
      "source": [
        "np.sort(d,axis=1)"
      ],
      "metadata": {
        "colab": {
          "base_uri": "https://localhost:8080/"
        },
        "id": "U_rQinvHZZ_-",
        "outputId": "8d980d50-84dc-4e5f-92ed-73cf1153ec6e"
      },
      "execution_count": 60,
      "outputs": [
        {
          "output_type": "execute_result",
          "data": {
            "text/plain": [
              "array([[ 2, 10, 12],\n",
              "       [ 5, 20, 30]])"
            ]
          },
          "metadata": {},
          "execution_count": 60
        }
      ]
    },
    {
      "cell_type": "code",
      "source": [
        "np.sort(d,axis=0)"
      ],
      "metadata": {
        "colab": {
          "base_uri": "https://localhost:8080/"
        },
        "id": "nm7UsNexbwJt",
        "outputId": "29b44d13-d67c-4d3c-a22e-5c5984e82eb8"
      },
      "execution_count": 61,
      "outputs": [
        {
          "output_type": "execute_result",
          "data": {
            "text/plain": [
              "array([[ 5,  2, 12],\n",
              "       [10, 30, 20]])"
            ]
          },
          "metadata": {},
          "execution_count": 61
        }
      ]
    },
    {
      "cell_type": "code",
      "source": [
        "e"
      ],
      "metadata": {
        "colab": {
          "base_uri": "https://localhost:8080/"
        },
        "id": "xtBdCKCydN5D",
        "outputId": "348036cf-0c66-401e-f35b-c9a3546b3c32"
      },
      "execution_count": 62,
      "outputs": [
        {
          "output_type": "execute_result",
          "data": {
            "text/plain": [
              "array([[[ 1,  2,  3],\n",
              "        [10, 12, 15]],\n",
              "\n",
              "       [[ 1,  4,  3],\n",
              "        [10, 10, 15]]])"
            ]
          },
          "metadata": {},
          "execution_count": 62
        }
      ]
    },
    {
      "cell_type": "code",
      "source": [
        "np.sort(e,axis=1)"
      ],
      "metadata": {
        "colab": {
          "base_uri": "https://localhost:8080/"
        },
        "id": "RXkBJVtedaAQ",
        "outputId": "72e1126c-cd90-4e71-fd83-1f9f127fd431"
      },
      "execution_count": 63,
      "outputs": [
        {
          "output_type": "execute_result",
          "data": {
            "text/plain": [
              "array([[[ 1,  2,  3],\n",
              "        [10, 12, 15]],\n",
              "\n",
              "       [[ 1,  4,  3],\n",
              "        [10, 10, 15]]])"
            ]
          },
          "metadata": {},
          "execution_count": 63
        }
      ]
    },
    {
      "cell_type": "code",
      "source": [
        "x=np.sort(e,axis=0)"
      ],
      "metadata": {
        "id": "-gKSzcCRdfJp"
      },
      "execution_count": 64,
      "outputs": []
    },
    {
      "cell_type": "code",
      "source": [
        "print(x)"
      ],
      "metadata": {
        "colab": {
          "base_uri": "https://localhost:8080/"
        },
        "id": "ek4iWV-RiS9b",
        "outputId": "e015fc3c-c621-45bf-97a8-bc83f766b955"
      },
      "execution_count": 65,
      "outputs": [
        {
          "output_type": "stream",
          "name": "stdout",
          "text": [
            "[[[ 1  2  3]\n",
            "  [10 10 15]]\n",
            "\n",
            " [[ 1  4  3]\n",
            "  [10 12 15]]]\n"
          ]
        }
      ]
    },
    {
      "cell_type": "code",
      "source": [
        "print(x.dtype)"
      ],
      "metadata": {
        "colab": {
          "base_uri": "https://localhost:8080/"
        },
        "id": "ma8sk0PUdmer",
        "outputId": "6080f3d2-deca-408e-ede1-d75420dd6df6"
      },
      "execution_count": 66,
      "outputs": [
        {
          "output_type": "stream",
          "name": "stdout",
          "text": [
            "int64\n"
          ]
        }
      ]
    },
    {
      "cell_type": "code",
      "source": [
        "print(x.astype(\"f\")) #converted to float data type"
      ],
      "metadata": {
        "colab": {
          "base_uri": "https://localhost:8080/"
        },
        "id": "h3tD6erUiQO8",
        "outputId": "784fcfba-464b-4354-957c-0f3f3e8702f3"
      },
      "execution_count": 67,
      "outputs": [
        {
          "output_type": "stream",
          "name": "stdout",
          "text": [
            "[[[ 1.  2.  3.]\n",
            "  [10. 10. 15.]]\n",
            "\n",
            " [[ 1.  4.  3.]\n",
            "  [10. 12. 15.]]]\n"
          ]
        }
      ]
    },
    {
      "cell_type": "markdown",
      "source": [
        "Copy and View"
      ],
      "metadata": {
        "id": "Arh6Xf2ji7wT"
      }
    },
    {
      "cell_type": "code",
      "source": [
        "#copy creates an external array if element changed in array then the elements doesnt get changed\n",
        "# in the copy array where as in view the changes will get reflected\n",
        "\n",
        "x"
      ],
      "metadata": {
        "colab": {
          "base_uri": "https://localhost:8080/"
        },
        "id": "JgTr5X7ji9Z-",
        "outputId": "a8fa3b7d-2690-4ba1-f982-ccda5fb64ac6"
      },
      "execution_count": 68,
      "outputs": [
        {
          "output_type": "execute_result",
          "data": {
            "text/plain": [
              "array([[[ 1,  2,  3],\n",
              "        [10, 10, 15]],\n",
              "\n",
              "       [[ 1,  4,  3],\n",
              "        [10, 12, 15]]])"
            ]
          },
          "metadata": {},
          "execution_count": 68
        }
      ]
    },
    {
      "cell_type": "code",
      "source": [
        "b=x.copy()"
      ],
      "metadata": {
        "id": "dNFnD4XZjYUw"
      },
      "execution_count": 69,
      "outputs": []
    },
    {
      "cell_type": "code",
      "source": [
        "c=x.view()"
      ],
      "metadata": {
        "id": "pRPfnWdfjakB"
      },
      "execution_count": 70,
      "outputs": []
    },
    {
      "cell_type": "code",
      "source": [
        "x[0][0][0]=100"
      ],
      "metadata": {
        "id": "6ZYj1NhJjlld"
      },
      "execution_count": 71,
      "outputs": []
    },
    {
      "cell_type": "code",
      "source": [
        "print(x)"
      ],
      "metadata": {
        "colab": {
          "base_uri": "https://localhost:8080/"
        },
        "id": "alHgQ59Ajw6F",
        "outputId": "46b9eef6-a1a8-44ca-d7d4-dcc64bd08f8e"
      },
      "execution_count": 72,
      "outputs": [
        {
          "output_type": "stream",
          "name": "stdout",
          "text": [
            "[[[100   2   3]\n",
            "  [ 10  10  15]]\n",
            "\n",
            " [[  1   4   3]\n",
            "  [ 10  12  15]]]\n"
          ]
        }
      ]
    },
    {
      "cell_type": "code",
      "source": [
        "print(b)"
      ],
      "metadata": {
        "colab": {
          "base_uri": "https://localhost:8080/"
        },
        "id": "2uX_WWiEjsPi",
        "outputId": "ec164225-f9fc-47ad-9f82-874a7ee9b5ab"
      },
      "execution_count": 73,
      "outputs": [
        {
          "output_type": "stream",
          "name": "stdout",
          "text": [
            "[[[ 1  2  3]\n",
            "  [10 10 15]]\n",
            "\n",
            " [[ 1  4  3]\n",
            "  [10 12 15]]]\n"
          ]
        }
      ]
    },
    {
      "cell_type": "code",
      "source": [
        "print(c)"
      ],
      "metadata": {
        "colab": {
          "base_uri": "https://localhost:8080/"
        },
        "id": "pAXJ9waejuc3",
        "outputId": "b4a6d7a0-d0c1-4e85-eb9d-d3117202a2fa"
      },
      "execution_count": 74,
      "outputs": [
        {
          "output_type": "stream",
          "name": "stdout",
          "text": [
            "[[[100   2   3]\n",
            "  [ 10  10  15]]\n",
            "\n",
            " [[  1   4   3]\n",
            "  [ 10  12  15]]]\n"
          ]
        }
      ]
    },
    {
      "cell_type": "code",
      "source": [
        "a=np.array([1,2,3,10,8,20],dtype='f')"
      ],
      "metadata": {
        "id": "6pKmUxhqkBkY"
      },
      "execution_count": 75,
      "outputs": []
    },
    {
      "cell_type": "code",
      "source": [
        "a"
      ],
      "metadata": {
        "colab": {
          "base_uri": "https://localhost:8080/"
        },
        "id": "r1ApK0zmkIh4",
        "outputId": "c50a5351-5a0b-4fac-f00e-138fc5a05ec6"
      },
      "execution_count": 76,
      "outputs": [
        {
          "output_type": "execute_result",
          "data": {
            "text/plain": [
              "array([ 1.,  2.,  3., 10.,  8., 20.], dtype=float32)"
            ]
          },
          "metadata": {},
          "execution_count": 76
        }
      ]
    },
    {
      "cell_type": "code",
      "source": [
        "l=a.copy()"
      ],
      "metadata": {
        "id": "wEtvW5-gkKF1"
      },
      "execution_count": 77,
      "outputs": []
    },
    {
      "cell_type": "code",
      "source": [
        "m=a.view()"
      ],
      "metadata": {
        "id": "3wm8KMqbkM-c"
      },
      "execution_count": 78,
      "outputs": []
    },
    {
      "cell_type": "code",
      "source": [
        "a[0]=2000.0"
      ],
      "metadata": {
        "id": "UoO9RsGokOyY"
      },
      "execution_count": 79,
      "outputs": []
    },
    {
      "cell_type": "code",
      "source": [
        "l"
      ],
      "metadata": {
        "colab": {
          "base_uri": "https://localhost:8080/"
        },
        "id": "xKLAkS87kTuK",
        "outputId": "8f300a8e-2bca-49e7-e4e6-e00c8f83a625"
      },
      "execution_count": 80,
      "outputs": [
        {
          "output_type": "execute_result",
          "data": {
            "text/plain": [
              "array([ 1.,  2.,  3., 10.,  8., 20.], dtype=float32)"
            ]
          },
          "metadata": {},
          "execution_count": 80
        }
      ]
    },
    {
      "cell_type": "code",
      "source": [
        "m"
      ],
      "metadata": {
        "colab": {
          "base_uri": "https://localhost:8080/"
        },
        "id": "qHtKeX1AkULY",
        "outputId": "c792cd33-dbe1-48c2-e709-db14e9546eb2"
      },
      "execution_count": 81,
      "outputs": [
        {
          "output_type": "execute_result",
          "data": {
            "text/plain": [
              "array([2000.,    2.,    3.,   10.,    8.,   20.], dtype=float32)"
            ]
          },
          "metadata": {},
          "execution_count": 81
        }
      ]
    },
    {
      "cell_type": "code",
      "source": [
        "b=a.astype(\"U\")"
      ],
      "metadata": {
        "id": "TfuBrThTkUz9"
      },
      "execution_count": 82,
      "outputs": []
    },
    {
      "cell_type": "code",
      "source": [
        "b.dtype"
      ],
      "metadata": {
        "colab": {
          "base_uri": "https://localhost:8080/"
        },
        "id": "NfUSKXKTlHQY",
        "outputId": "38570fe2-472f-455c-a087-5cb079edf33a"
      },
      "execution_count": 83,
      "outputs": [
        {
          "output_type": "execute_result",
          "data": {
            "text/plain": [
              "dtype('<U32')"
            ]
          },
          "metadata": {},
          "execution_count": 83
        }
      ]
    },
    {
      "cell_type": "code",
      "source": [
        "c=a.astype(bool)"
      ],
      "metadata": {
        "id": "HBhDsFjelb36"
      },
      "execution_count": 84,
      "outputs": []
    },
    {
      "cell_type": "code",
      "source": [
        "print(c)"
      ],
      "metadata": {
        "colab": {
          "base_uri": "https://localhost:8080/"
        },
        "id": "-oM_DgLaloTW",
        "outputId": "5e1b38bb-d871-41c4-f147-694a19ecd955"
      },
      "execution_count": 85,
      "outputs": [
        {
          "output_type": "stream",
          "name": "stdout",
          "text": [
            "[ True  True  True  True  True  True]\n"
          ]
        }
      ]
    },
    {
      "cell_type": "code",
      "source": [
        "c.dtype"
      ],
      "metadata": {
        "colab": {
          "base_uri": "https://localhost:8080/"
        },
        "id": "CloiYCQOlkjq",
        "outputId": "68ab776a-6a3f-4c04-b58a-2b5d631f4d6f"
      },
      "execution_count": 86,
      "outputs": [
        {
          "output_type": "execute_result",
          "data": {
            "text/plain": [
              "dtype('bool')"
            ]
          },
          "metadata": {},
          "execution_count": 86
        }
      ]
    },
    {
      "cell_type": "code",
      "source": [
        "a=np.array([[3,4,5],[10,20,5]])\n",
        "b=np.array([[11,0,6],[100,20,50]])"
      ],
      "metadata": {
        "id": "UECQtrWRmlr8"
      },
      "execution_count": 87,
      "outputs": []
    },
    {
      "cell_type": "code",
      "source": [
        "a"
      ],
      "metadata": {
        "colab": {
          "base_uri": "https://localhost:8080/"
        },
        "id": "mEnAlVAknOEZ",
        "outputId": "9570e5cf-2253-464a-d7cd-cf73587470f6"
      },
      "execution_count": 88,
      "outputs": [
        {
          "output_type": "execute_result",
          "data": {
            "text/plain": [
              "array([[ 3,  4,  5],\n",
              "       [10, 20,  5]])"
            ]
          },
          "metadata": {},
          "execution_count": 88
        }
      ]
    },
    {
      "cell_type": "code",
      "source": [
        "b"
      ],
      "metadata": {
        "colab": {
          "base_uri": "https://localhost:8080/"
        },
        "id": "Al6hN2cpnO-6",
        "outputId": "024d4f7e-b1fd-4780-8266-86ef0dd0ac8c"
      },
      "execution_count": 89,
      "outputs": [
        {
          "output_type": "execute_result",
          "data": {
            "text/plain": [
              "array([[ 11,   0,   6],\n",
              "       [100,  20,  50]])"
            ]
          },
          "metadata": {},
          "execution_count": 89
        }
      ]
    },
    {
      "cell_type": "code",
      "source": [
        "np.concatenate((a,b)) #parameters should be placed in tuple"
      ],
      "metadata": {
        "colab": {
          "base_uri": "https://localhost:8080/"
        },
        "id": "9E14N-kqm1eT",
        "outputId": "dab00b6c-379f-4eea-8b96-7df4434f5b71"
      },
      "execution_count": 90,
      "outputs": [
        {
          "output_type": "execute_result",
          "data": {
            "text/plain": [
              "array([[  3,   4,   5],\n",
              "       [ 10,  20,   5],\n",
              "       [ 11,   0,   6],\n",
              "       [100,  20,  50]])"
            ]
          },
          "metadata": {},
          "execution_count": 90
        }
      ]
    },
    {
      "cell_type": "code",
      "source": [
        "np.concatenate((a,b),axis=1)"
      ],
      "metadata": {
        "colab": {
          "base_uri": "https://localhost:8080/"
        },
        "id": "u4BKU735m4Cl",
        "outputId": "0dfde6cf-507d-47fb-bd41-b1ef28db486a"
      },
      "execution_count": 91,
      "outputs": [
        {
          "output_type": "execute_result",
          "data": {
            "text/plain": [
              "array([[  3,   4,   5,  11,   0,   6],\n",
              "       [ 10,  20,   5, 100,  20,  50]])"
            ]
          },
          "metadata": {},
          "execution_count": 91
        }
      ]
    },
    {
      "cell_type": "code",
      "source": [
        "np.stack((a,b))  # stack will form an array with each array as element"
      ],
      "metadata": {
        "colab": {
          "base_uri": "https://localhost:8080/"
        },
        "id": "UVZnHbEbnrTz",
        "outputId": "6d028970-6386-43e7-9653-fada08fbd616"
      },
      "execution_count": 92,
      "outputs": [
        {
          "output_type": "execute_result",
          "data": {
            "text/plain": [
              "array([[[  3,   4,   5],\n",
              "        [ 10,  20,   5]],\n",
              "\n",
              "       [[ 11,   0,   6],\n",
              "        [100,  20,  50]]])"
            ]
          },
          "metadata": {},
          "execution_count": 92
        }
      ]
    },
    {
      "cell_type": "code",
      "source": [
        "np.stack((a,b) ,axis=1)"
      ],
      "metadata": {
        "colab": {
          "base_uri": "https://localhost:8080/"
        },
        "id": "jFqCHBy9owMO",
        "outputId": "db8002d2-dcb6-4543-e943-0bb7ee659a29"
      },
      "execution_count": 93,
      "outputs": [
        {
          "output_type": "execute_result",
          "data": {
            "text/plain": [
              "array([[[  3,   4,   5],\n",
              "        [ 11,   0,   6]],\n",
              "\n",
              "       [[ 10,  20,   5],\n",
              "        [100,  20,  50]]])"
            ]
          },
          "metadata": {},
          "execution_count": 93
        }
      ]
    },
    {
      "cell_type": "code",
      "source": [
        "np.stack((a,b),axis=0)"
      ],
      "metadata": {
        "colab": {
          "base_uri": "https://localhost:8080/"
        },
        "id": "FUBpoQJco5jy",
        "outputId": "b6828769-41d8-4371-c8f2-c54438a5ec21"
      },
      "execution_count": 94,
      "outputs": [
        {
          "output_type": "execute_result",
          "data": {
            "text/plain": [
              "array([[[  3,   4,   5],\n",
              "        [ 10,  20,   5]],\n",
              "\n",
              "       [[ 11,   0,   6],\n",
              "        [100,  20,  50]]])"
            ]
          },
          "metadata": {},
          "execution_count": 94
        }
      ]
    },
    {
      "cell_type": "code",
      "source": [
        "np.hstack((a,b)) #it is like row conactente (axis=1)"
      ],
      "metadata": {
        "colab": {
          "base_uri": "https://localhost:8080/"
        },
        "id": "aCNYFxesnzVG",
        "outputId": "7e726e95-7659-49f5-ba06-4a2529d45c7f"
      },
      "execution_count": 95,
      "outputs": [
        {
          "output_type": "execute_result",
          "data": {
            "text/plain": [
              "array([[  3,   4,   5,  11,   0,   6],\n",
              "       [ 10,  20,   5, 100,  20,  50]])"
            ]
          },
          "metadata": {},
          "execution_count": 95
        }
      ]
    },
    {
      "cell_type": "code",
      "source": [
        "np.vstack((a,b)) #like column concatenate axis=0"
      ],
      "metadata": {
        "colab": {
          "base_uri": "https://localhost:8080/"
        },
        "id": "Lfds7RTeoKlF",
        "outputId": "13bfbabe-a64c-435c-e0e2-a59142ff8410"
      },
      "execution_count": 96,
      "outputs": [
        {
          "output_type": "execute_result",
          "data": {
            "text/plain": [
              "array([[  3,   4,   5],\n",
              "       [ 10,  20,   5],\n",
              "       [ 11,   0,   6],\n",
              "       [100,  20,  50]])"
            ]
          },
          "metadata": {},
          "execution_count": 96
        }
      ]
    },
    {
      "cell_type": "code",
      "source": [
        "np.dstack((a,b)) #take each element from each array and make a rows a forming new array"
      ],
      "metadata": {
        "colab": {
          "base_uri": "https://localhost:8080/"
        },
        "id": "2cbkJGfdoXdJ",
        "outputId": "b5a982fd-c2ec-42ed-e2e3-f8e020c8485a"
      },
      "execution_count": 97,
      "outputs": [
        {
          "output_type": "execute_result",
          "data": {
            "text/plain": [
              "array([[[  3,  11],\n",
              "        [  4,   0],\n",
              "        [  5,   6]],\n",
              "\n",
              "       [[ 10, 100],\n",
              "        [ 20,  20],\n",
              "        [  5,  50]]])"
            ]
          },
          "metadata": {},
          "execution_count": 97
        }
      ]
    },
    {
      "cell_type": "code",
      "source": [
        "a=np.arange(1,10)"
      ],
      "metadata": {
        "id": "EehzzS9SooDT"
      },
      "execution_count": 98,
      "outputs": []
    },
    {
      "cell_type": "code",
      "source": [
        "a[::-1]"
      ],
      "metadata": {
        "colab": {
          "base_uri": "https://localhost:8080/"
        },
        "id": "j_vkWCz0uHFx",
        "outputId": "a5c14e82-02d6-472a-9915-72f73f3cfa05"
      },
      "execution_count": 99,
      "outputs": [
        {
          "output_type": "execute_result",
          "data": {
            "text/plain": [
              "array([9, 8, 7, 6, 5, 4, 3, 2, 1])"
            ]
          },
          "metadata": {},
          "execution_count": 99
        }
      ]
    },
    {
      "cell_type": "code",
      "source": [
        "a*10"
      ],
      "metadata": {
        "colab": {
          "base_uri": "https://localhost:8080/"
        },
        "id": "lk2UJ5SEobJg",
        "outputId": "7960cef8-4991-4a08-f90b-a1f48744e909"
      },
      "execution_count": 100,
      "outputs": [
        {
          "output_type": "execute_result",
          "data": {
            "text/plain": [
              "array([10, 20, 30, 40, 50, 60, 70, 80, 90])"
            ]
          },
          "metadata": {},
          "execution_count": 100
        }
      ]
    },
    {
      "cell_type": "code",
      "source": [
        "a/2"
      ],
      "metadata": {
        "colab": {
          "base_uri": "https://localhost:8080/"
        },
        "id": "Ydqq7DGBvDeb",
        "outputId": "96a20537-5379-4469-dfe0-0ee3ba64b6f0"
      },
      "execution_count": 101,
      "outputs": [
        {
          "output_type": "execute_result",
          "data": {
            "text/plain": [
              "array([0.5, 1. , 1.5, 2. , 2.5, 3. , 3.5, 4. , 4.5])"
            ]
          },
          "metadata": {},
          "execution_count": 101
        }
      ]
    },
    {
      "cell_type": "code",
      "source": [
        "np.split(a,3) #it will split into equal divisions if not possible will show error"
      ],
      "metadata": {
        "colab": {
          "base_uri": "https://localhost:8080/"
        },
        "id": "2rZdczwvvGVQ",
        "outputId": "0b987e1c-ead8-491c-f4fe-4bdfc98aaaed"
      },
      "execution_count": 102,
      "outputs": [
        {
          "output_type": "execute_result",
          "data": {
            "text/plain": [
              "[array([1, 2, 3]), array([4, 5, 6]), array([7, 8, 9])]"
            ]
          },
          "metadata": {},
          "execution_count": 102
        }
      ]
    },
    {
      "cell_type": "code",
      "source": [
        "np.array_split(a,2) #it will arrange into arrays though it doesnt have equal  divsions it will divide"
      ],
      "metadata": {
        "colab": {
          "base_uri": "https://localhost:8080/"
        },
        "id": "WnULhB4a0WnZ",
        "outputId": "f3fde95d-eb7f-417a-9866-9407ddcef80f"
      },
      "execution_count": 103,
      "outputs": [
        {
          "output_type": "execute_result",
          "data": {
            "text/plain": [
              "[array([1, 2, 3, 4, 5]), array([6, 7, 8, 9])]"
            ]
          },
          "metadata": {},
          "execution_count": 103
        }
      ]
    },
    {
      "cell_type": "code",
      "source": [
        "d=np.array([[1,2,3],[10,12,15]])"
      ],
      "metadata": {
        "id": "Pkb7eEX51T6_"
      },
      "execution_count": 104,
      "outputs": []
    },
    {
      "cell_type": "code",
      "source": [
        "print(d)"
      ],
      "metadata": {
        "colab": {
          "base_uri": "https://localhost:8080/"
        },
        "id": "DcHB3Hzh6AhV",
        "outputId": "709742bb-c8d6-48f0-8084-0132946548e2"
      },
      "execution_count": 105,
      "outputs": [
        {
          "output_type": "stream",
          "name": "stdout",
          "text": [
            "[[ 1  2  3]\n",
            " [10 12 15]]\n"
          ]
        }
      ]
    },
    {
      "cell_type": "code",
      "source": [
        ""
      ],
      "metadata": {
        "id": "RR6jxvSb6BY-"
      },
      "execution_count": 105,
      "outputs": []
    },
    {
      "cell_type": "code",
      "source": [
        "print(np.vsplit(d,2)) #vsplit doesnt work on single dimensions"
      ],
      "metadata": {
        "colab": {
          "base_uri": "https://localhost:8080/"
        },
        "id": "G-GPfPmV1UD6",
        "outputId": "c26f58ea-34b3-468b-e8a9-ba2993b33988"
      },
      "execution_count": 106,
      "outputs": [
        {
          "output_type": "stream",
          "name": "stdout",
          "text": [
            "[array([[1, 2, 3]]), array([[10, 12, 15]])]\n"
          ]
        }
      ]
    },
    {
      "cell_type": "code",
      "source": [
        "print(np.hsplit(d,3)) # cannot work with equal division"
      ],
      "metadata": {
        "colab": {
          "base_uri": "https://localhost:8080/"
        },
        "id": "ktO8bFDp7Lof",
        "outputId": "a6a30340-a8d9-40e4-db1a-edde0ae52900"
      },
      "execution_count": 107,
      "outputs": [
        {
          "output_type": "stream",
          "name": "stdout",
          "text": [
            "[array([[ 1],\n",
            "       [10]]), array([[ 2],\n",
            "       [12]]), array([[ 3],\n",
            "       [15]])]\n"
          ]
        }
      ]
    },
    {
      "cell_type": "code",
      "source": [
        ""
      ],
      "metadata": {
        "id": "7bXllL-u7fnr"
      },
      "execution_count": 107,
      "outputs": []
    },
    {
      "cell_type": "code",
      "source": [
        ""
      ],
      "metadata": {
        "id": "lhF7MJY77QB_"
      },
      "execution_count": 107,
      "outputs": []
    },
    {
      "cell_type": "code",
      "source": [
        ""
      ],
      "metadata": {
        "id": "qqC_9Iu97F0U"
      },
      "execution_count": 107,
      "outputs": []
    },
    {
      "cell_type": "code",
      "source": [
        ""
      ],
      "metadata": {
        "id": "NgHzzKXk6v0d"
      },
      "execution_count": 107,
      "outputs": []
    },
    {
      "cell_type": "code",
      "source": [
        "print(np.vsplit(d,2))"
      ],
      "metadata": {
        "colab": {
          "base_uri": "https://localhost:8080/"
        },
        "id": "rf-bLJKe6CVQ",
        "outputId": "d9c5c2cf-2aaf-4441-a8ca-59b2be6cc525"
      },
      "execution_count": 109,
      "outputs": [
        {
          "output_type": "stream",
          "name": "stdout",
          "text": [
            "[array([[1, 2, 3]]), array([[10, 12, 15]])]\n"
          ]
        }
      ]
    },
    {
      "cell_type": "markdown",
      "source": [
        "20-03-2022"
      ],
      "metadata": {
        "id": "utKfuEIWB_zj"
      }
    },
    {
      "cell_type": "code",
      "source": [
        "a"
      ],
      "metadata": {
        "colab": {
          "base_uri": "https://localhost:8080/"
        },
        "id": "MQ1kmzOPCk2i",
        "outputId": "f407601e-b57d-447b-b218-43aa64e0a94f"
      },
      "execution_count": 112,
      "outputs": [
        {
          "output_type": "execute_result",
          "data": {
            "text/plain": [
              "array([1, 2, 3, 4, 5, 6, 7, 8, 9])"
            ]
          },
          "metadata": {},
          "execution_count": 112
        }
      ]
    },
    {
      "cell_type": "code",
      "source": [
        "#where return the index of the given value\n",
        " \n",
        "np.where(a%2==0)  "
      ],
      "metadata": {
        "id": "wvp9N6Lc6tmN",
        "colab": {
          "base_uri": "https://localhost:8080/"
        },
        "outputId": "dcca0921-9f23-4cbd-e100-f31094a2fff6"
      },
      "execution_count": 111,
      "outputs": [
        {
          "output_type": "execute_result",
          "data": {
            "text/plain": [
              "(array([1, 3, 5, 7]),)"
            ]
          },
          "metadata": {},
          "execution_count": 111
        }
      ]
    },
    {
      "cell_type": "code",
      "source": [
        "#Searched Sort =>returns the index where the specified value should be inserted.\n",
        "\n",
        "#Elements should be in sorted order before implementing searchsorted\n",
        "a=[1,10,3,5,8,7]\n",
        "a=np.asarray(a)\n",
        "a=np.sort(a)"
      ],
      "metadata": {
        "id": "23VfubqU6qOo"
      },
      "execution_count": 114,
      "outputs": []
    },
    {
      "cell_type": "code",
      "source": [
        "print(a)"
      ],
      "metadata": {
        "colab": {
          "base_uri": "https://localhost:8080/"
        },
        "id": "Ykhje2FFENPZ",
        "outputId": "cdb4d284-8484-4104-bb08-0f3391342cb3"
      },
      "execution_count": 115,
      "outputs": [
        {
          "output_type": "stream",
          "name": "stdout",
          "text": [
            "[ 1  3  5  7  8 10]\n"
          ]
        }
      ]
    },
    {
      "cell_type": "code",
      "source": [
        "np.searchsorted(a,2)"
      ],
      "metadata": {
        "colab": {
          "base_uri": "https://localhost:8080/"
        },
        "id": "N2kYHhvbEO5v",
        "outputId": "ee949418-27ac-4883-b0f6-7d16c27bc207"
      },
      "execution_count": 116,
      "outputs": [
        {
          "output_type": "execute_result",
          "data": {
            "text/plain": [
              "1"
            ]
          },
          "metadata": {},
          "execution_count": 116
        }
      ]
    },
    {
      "cell_type": "code",
      "source": [
        "np.searchsorted(a,[2,4,6,9,11]) "
      ],
      "metadata": {
        "colab": {
          "base_uri": "https://localhost:8080/"
        },
        "id": "-FDFC93bEV3x",
        "outputId": "30bceef6-321e-4727-f7c1-028e71b67ede"
      },
      "execution_count": 117,
      "outputs": [
        {
          "output_type": "execute_result",
          "data": {
            "text/plain": [
              "array([1, 2, 3, 5, 6])"
            ]
          },
          "metadata": {},
          "execution_count": 117
        }
      ]
    },
    {
      "cell_type": "code",
      "source": [
        "#sort(array,axis,order,kind) kind as merge sort and quick sort\n",
        "m=np.array([[30,20,40],[10,300,25]])"
      ],
      "metadata": {
        "id": "nRq0PF7pEd98"
      },
      "execution_count": 119,
      "outputs": []
    },
    {
      "cell_type": "code",
      "source": [
        "np.sort(m,axis=0)"
      ],
      "metadata": {
        "id": "I3U1D0p8591w",
        "colab": {
          "base_uri": "https://localhost:8080/"
        },
        "outputId": "58ed78ad-f63d-4bed-9ca4-424bc543e0e2"
      },
      "execution_count": 120,
      "outputs": [
        {
          "output_type": "execute_result",
          "data": {
            "text/plain": [
              "array([[ 10,  20,  25],\n",
              "       [ 30, 300,  40]])"
            ]
          },
          "metadata": {},
          "execution_count": 120
        }
      ]
    },
    {
      "cell_type": "code",
      "source": [
        "np.sort(m,axis=1)"
      ],
      "metadata": {
        "id": "hYPJAncS55a_",
        "colab": {
          "base_uri": "https://localhost:8080/"
        },
        "outputId": "62b02cb8-8be2-4fb8-fe78-00e56b01c7b8"
      },
      "execution_count": 122,
      "outputs": [
        {
          "output_type": "execute_result",
          "data": {
            "text/plain": [
              "array([[ 20,  30,  40],\n",
              "       [ 10,  25, 300]])"
            ]
          },
          "metadata": {},
          "execution_count": 122
        }
      ]
    },
    {
      "cell_type": "code",
      "source": [
        "d=np.dtype([('name',\"S1\"),(\"Percent\", float)])\n",
        "\n",
        "x=np.array([('abc',60.5),(\"Arun\",90.25),('Abhi',87.5)], dtype=d)\n",
        "\n",
        "np.sort(x,order=\"Percent\")"
      ],
      "metadata": {
        "colab": {
          "base_uri": "https://localhost:8080/"
        },
        "id": "8slFBh1NIhwh",
        "outputId": "8ec32c3a-ca8f-4b36-91bd-620dbb25d4e0"
      },
      "execution_count": 123,
      "outputs": [
        {
          "output_type": "execute_result",
          "data": {
            "text/plain": [
              "array([(b'a', 60.5 ), (b'A', 87.5 ), (b'A', 90.25)],\n",
              "      dtype=[('name', 'S1'), ('Percent', '<f8')])"
            ]
          },
          "metadata": {},
          "execution_count": 123
        }
      ]
    },
    {
      "cell_type": "code",
      "source": [
        "np.sort(x,order='name')"
      ],
      "metadata": {
        "colab": {
          "base_uri": "https://localhost:8080/"
        },
        "id": "B35aaUcCL9Te",
        "outputId": "be0faa3b-e2ef-46e6-8516-d347ccfcc3a4"
      },
      "execution_count": 124,
      "outputs": [
        {
          "output_type": "execute_result",
          "data": {
            "text/plain": [
              "array([(b'A', 87.5 ), (b'A', 90.25), (b'a', 60.5 )],\n",
              "      dtype=[('name', 'S1'), ('Percent', '<f8')])"
            ]
          },
          "metadata": {},
          "execution_count": 124
        }
      ]
    },
    {
      "cell_type": "code",
      "source": [
        "a=np.array([[2,3,3],[4,5,10],[2,2,2]])\n",
        "b=np.array([[1,4,5],[0,7,18],[1,5,5]])"
      ],
      "metadata": {
        "id": "moBZcRTHMDwq"
      },
      "execution_count": 125,
      "outputs": []
    },
    {
      "cell_type": "code",
      "source": [
        "np.add(a,b)"
      ],
      "metadata": {
        "id": "YCD-FlIo0umZ",
        "colab": {
          "base_uri": "https://localhost:8080/"
        },
        "outputId": "abc33f6d-7630-42c8-b8fd-193b129acf6e"
      },
      "execution_count": 127,
      "outputs": [
        {
          "output_type": "execute_result",
          "data": {
            "text/plain": [
              "array([[ 3,  7,  8],\n",
              "       [ 4, 12, 28],\n",
              "       [ 3,  7,  7]])"
            ]
          },
          "metadata": {},
          "execution_count": 127
        }
      ]
    },
    {
      "cell_type": "code",
      "source": [
        "np.subtract(a,b)"
      ],
      "metadata": {
        "colab": {
          "base_uri": "https://localhost:8080/"
        },
        "id": "7CoUMpJgVMVU",
        "outputId": "c4e9e6d1-414d-4510-c121-0824e14fcb2c"
      },
      "execution_count": 128,
      "outputs": [
        {
          "output_type": "execute_result",
          "data": {
            "text/plain": [
              "array([[ 1, -1, -2],\n",
              "       [ 4, -2, -8],\n",
              "       [ 1, -3, -3]])"
            ]
          },
          "metadata": {},
          "execution_count": 128
        }
      ]
    },
    {
      "cell_type": "code",
      "source": [
        "np.multiply(a,b)"
      ],
      "metadata": {
        "colab": {
          "base_uri": "https://localhost:8080/"
        },
        "id": "QSSJoXOoVX_X",
        "outputId": "f09d070f-b32e-494e-cdd5-5f8e995169aa"
      },
      "execution_count": 129,
      "outputs": [
        {
          "output_type": "execute_result",
          "data": {
            "text/plain": [
              "array([[  2,  12,  15],\n",
              "       [  0,  35, 180],\n",
              "       [  2,  10,  10]])"
            ]
          },
          "metadata": {},
          "execution_count": 129
        }
      ]
    },
    {
      "cell_type": "code",
      "source": [
        "np.divide(a,b)"
      ],
      "metadata": {
        "colab": {
          "base_uri": "https://localhost:8080/"
        },
        "id": "22G-mMSlVazJ",
        "outputId": "d9f083e8-f0de-46ca-d43c-e0a4245c1ea0"
      },
      "execution_count": 130,
      "outputs": [
        {
          "output_type": "stream",
          "name": "stderr",
          "text": [
            "/usr/local/lib/python3.7/dist-packages/ipykernel_launcher.py:1: RuntimeWarning: divide by zero encountered in true_divide\n",
            "  \"\"\"Entry point for launching an IPython kernel.\n"
          ]
        },
        {
          "output_type": "execute_result",
          "data": {
            "text/plain": [
              "array([[2.        , 0.75      , 0.6       ],\n",
              "       [       inf, 0.71428571, 0.55555556],\n",
              "       [2.        , 0.4       , 0.4       ]])"
            ]
          },
          "metadata": {},
          "execution_count": 130
        }
      ]
    },
    {
      "cell_type": "code",
      "source": [
        "c=np.array([10,10,20])"
      ],
      "metadata": {
        "id": "arm4MBjJVlVK"
      },
      "execution_count": 131,
      "outputs": []
    },
    {
      "cell_type": "code",
      "source": [
        "np.add(a,c)"
      ],
      "metadata": {
        "colab": {
          "base_uri": "https://localhost:8080/"
        },
        "id": "fr17vmyFVH8v",
        "outputId": "812714c0-f4ad-442a-8ba7-539e66999953"
      },
      "execution_count": 132,
      "outputs": [
        {
          "output_type": "execute_result",
          "data": {
            "text/plain": [
              "array([[12, 13, 23],\n",
              "       [14, 15, 30],\n",
              "       [12, 12, 22]])"
            ]
          },
          "metadata": {},
          "execution_count": 132
        }
      ]
    },
    {
      "cell_type": "code",
      "source": [
        "d=np.array([10,50])"
      ],
      "metadata": {
        "id": "hDaS-7PXWHOO"
      },
      "execution_count": 133,
      "outputs": []
    },
    {
      "cell_type": "code",
      "source": [
        "a"
      ],
      "metadata": {
        "colab": {
          "base_uri": "https://localhost:8080/"
        },
        "id": "IQPQrrR7XBB8",
        "outputId": "e0fceb21-70d8-47ba-a98e-1c0ef5cc71e7"
      },
      "execution_count": 136,
      "outputs": [
        {
          "output_type": "execute_result",
          "data": {
            "text/plain": [
              "array([[ 2,  3,  3],\n",
              "       [ 4,  5, 10],\n",
              "       [ 2,  2,  2]])"
            ]
          },
          "metadata": {},
          "execution_count": 136
        }
      ]
    },
    {
      "cell_type": "code",
      "source": [
        "c"
      ],
      "metadata": {
        "colab": {
          "base_uri": "https://localhost:8080/"
        },
        "id": "atw6wc5rXBfl",
        "outputId": "ec1890d8-a330-4f5e-87d1-49f0e44115bc"
      },
      "execution_count": 137,
      "outputs": [
        {
          "output_type": "execute_result",
          "data": {
            "text/plain": [
              "array([10, 10, 20])"
            ]
          },
          "metadata": {},
          "execution_count": 137
        }
      ]
    },
    {
      "cell_type": "code",
      "source": [
        "np.divide(a,c)"
      ],
      "metadata": {
        "colab": {
          "base_uri": "https://localhost:8080/"
        },
        "id": "YsIMrAhsXB5e",
        "outputId": "caebfc5e-a30c-4a93-ee2b-600c07f68a55"
      },
      "execution_count": 139,
      "outputs": [
        {
          "output_type": "execute_result",
          "data": {
            "text/plain": [
              "array([[0.2 , 0.3 , 0.15],\n",
              "       [0.4 , 0.5 , 0.5 ],\n",
              "       [0.2 , 0.2 , 0.1 ]])"
            ]
          },
          "metadata": {},
          "execution_count": 139
        }
      ]
    },
    {
      "cell_type": "code",
      "source": [
        "np.multiply(a,c)"
      ],
      "metadata": {
        "colab": {
          "base_uri": "https://localhost:8080/"
        },
        "id": "i2RxDZ8qWMIQ",
        "outputId": "a6eb16ab-880a-4304-acd7-169ce2e2e321"
      },
      "execution_count": 135,
      "outputs": [
        {
          "output_type": "execute_result",
          "data": {
            "text/plain": [
              "array([[ 20,  30,  60],\n",
              "       [ 40,  50, 200],\n",
              "       [ 20,  20,  40]])"
            ]
          },
          "metadata": {},
          "execution_count": 135
        }
      ]
    },
    {
      "cell_type": "code",
      "source": [
        "np.reciprocal(a) #it will return only integers"
      ],
      "metadata": {
        "colab": {
          "base_uri": "https://localhost:8080/"
        },
        "id": "dOTZ7x4QWPd2",
        "outputId": "5b0ef3ac-2b9b-467c-e272-c1f10136a5bf"
      },
      "execution_count": 140,
      "outputs": [
        {
          "output_type": "execute_result",
          "data": {
            "text/plain": [
              "array([[0, 0, 0],\n",
              "       [0, 0, 0],\n",
              "       [0, 0, 0]])"
            ]
          },
          "metadata": {},
          "execution_count": 140
        }
      ]
    },
    {
      "cell_type": "code",
      "source": [
        "np.mod(a,2)"
      ],
      "metadata": {
        "colab": {
          "base_uri": "https://localhost:8080/"
        },
        "id": "YKN2Uqz8YCDt",
        "outputId": "ee6caa29-7c84-4778-9c73-ac9143cfb0f3"
      },
      "execution_count": 141,
      "outputs": [
        {
          "output_type": "execute_result",
          "data": {
            "text/plain": [
              "array([[0, 1, 1],\n",
              "       [0, 1, 0],\n",
              "       [0, 0, 0]])"
            ]
          },
          "metadata": {},
          "execution_count": 141
        }
      ]
    },
    {
      "cell_type": "code",
      "source": [
        "np.power(a,b)"
      ],
      "metadata": {
        "colab": {
          "base_uri": "https://localhost:8080/"
        },
        "id": "vyccqV3MYEkw",
        "outputId": "98e398b7-329b-43f1-c7b6-58bcadaf298d"
      },
      "execution_count": 142,
      "outputs": [
        {
          "output_type": "execute_result",
          "data": {
            "text/plain": [
              "array([[                  2,                  81,                 243],\n",
              "       [                  1,               78125, 1000000000000000000],\n",
              "       [                  2,                  32,                  32]])"
            ]
          },
          "metadata": {},
          "execution_count": 142
        }
      ]
    },
    {
      "cell_type": "code",
      "source": [
        "np.power(a,2)"
      ],
      "metadata": {
        "colab": {
          "base_uri": "https://localhost:8080/"
        },
        "id": "zabk_eUeX5wj",
        "outputId": "4db4febb-8f08-4e3d-a15b-c5350d91b76a"
      },
      "execution_count": 143,
      "outputs": [
        {
          "output_type": "execute_result",
          "data": {
            "text/plain": [
              "array([[  4,   9,   9],\n",
              "       [ 16,  25, 100],\n",
              "       [  4,   4,   4]])"
            ]
          },
          "metadata": {},
          "execution_count": 143
        }
      ]
    },
    {
      "cell_type": "code",
      "source": [
        "c=[5.0+6.j,2.+1.j,10.+2.j]"
      ],
      "metadata": {
        "id": "jtTnPoGrYHou"
      },
      "execution_count": 144,
      "outputs": []
    },
    {
      "cell_type": "code",
      "source": [
        "np.real(c)"
      ],
      "metadata": {
        "colab": {
          "base_uri": "https://localhost:8080/"
        },
        "id": "waR6NxOKYYwL",
        "outputId": "92d28cab-4c50-491f-932c-2211d92c9211"
      },
      "execution_count": 146,
      "outputs": [
        {
          "output_type": "execute_result",
          "data": {
            "text/plain": [
              "array([ 5.,  2., 10.])"
            ]
          },
          "metadata": {},
          "execution_count": 146
        }
      ]
    },
    {
      "cell_type": "code",
      "source": [
        "np.imag(c)"
      ],
      "metadata": {
        "colab": {
          "base_uri": "https://localhost:8080/"
        },
        "id": "4fyyURXWYfLl",
        "outputId": "60067330-802b-4a0c-ca39-2202733cb9f0"
      },
      "execution_count": 147,
      "outputs": [
        {
          "output_type": "execute_result",
          "data": {
            "text/plain": [
              "array([6., 1., 2.])"
            ]
          },
          "metadata": {},
          "execution_count": 147
        }
      ]
    },
    {
      "cell_type": "code",
      "source": [
        "np.conjugate(c)"
      ],
      "metadata": {
        "colab": {
          "base_uri": "https://localhost:8080/"
        },
        "id": "pefPtUCuYlGT",
        "outputId": "9cd08dd1-61e2-4907-848d-65d640fc117b"
      },
      "execution_count": 148,
      "outputs": [
        {
          "output_type": "execute_result",
          "data": {
            "text/plain": [
              "array([ 5.-6.j,  2.-1.j, 10.-2.j])"
            ]
          },
          "metadata": {},
          "execution_count": 148
        }
      ]
    },
    {
      "cell_type": "code",
      "source": [
        "a"
      ],
      "metadata": {
        "colab": {
          "base_uri": "https://localhost:8080/"
        },
        "id": "6yV0ilGVYpUf",
        "outputId": "0502b897-aa90-49b5-a388-52c789da1a75"
      },
      "execution_count": 149,
      "outputs": [
        {
          "output_type": "execute_result",
          "data": {
            "text/plain": [
              "array([[ 2,  3,  3],\n",
              "       [ 4,  5, 10],\n",
              "       [ 2,  2,  2]])"
            ]
          },
          "metadata": {},
          "execution_count": 149
        }
      ]
    },
    {
      "cell_type": "code",
      "source": [
        "np.amin(a)"
      ],
      "metadata": {
        "colab": {
          "base_uri": "https://localhost:8080/"
        },
        "id": "0Ou0DliYZN7E",
        "outputId": "f39d9890-29af-4787-b47a-94325542af74"
      },
      "execution_count": 151,
      "outputs": [
        {
          "output_type": "execute_result",
          "data": {
            "text/plain": [
              "2"
            ]
          },
          "metadata": {},
          "execution_count": 151
        }
      ]
    },
    {
      "cell_type": "code",
      "source": [
        "np.amin(a,axis=0)"
      ],
      "metadata": {
        "colab": {
          "base_uri": "https://localhost:8080/"
        },
        "id": "Bykz0yY0aO07",
        "outputId": "429c06ce-10f6-4c35-e3a2-fa75b63a9140"
      },
      "execution_count": 152,
      "outputs": [
        {
          "output_type": "execute_result",
          "data": {
            "text/plain": [
              "array([2, 2, 2])"
            ]
          },
          "metadata": {},
          "execution_count": 152
        }
      ]
    },
    {
      "cell_type": "code",
      "source": [
        "np.amax(a,axis=1)"
      ],
      "metadata": {
        "colab": {
          "base_uri": "https://localhost:8080/"
        },
        "id": "JAg24Uk3aTFg",
        "outputId": "76d90a0b-7b97-4f50-d788-2931642eb008"
      },
      "execution_count": 153,
      "outputs": [
        {
          "output_type": "execute_result",
          "data": {
            "text/plain": [
              "array([ 3, 10,  2])"
            ]
          },
          "metadata": {},
          "execution_count": 153
        }
      ]
    },
    {
      "cell_type": "code",
      "source": [
        "np.average(a)"
      ],
      "metadata": {
        "colab": {
          "base_uri": "https://localhost:8080/"
        },
        "id": "gArI0dVsaW_A",
        "outputId": "73292a81-251d-4eb3-b438-383e8d9035e1"
      },
      "execution_count": 154,
      "outputs": [
        {
          "output_type": "execute_result",
          "data": {
            "text/plain": [
              "3.6666666666666665"
            ]
          },
          "metadata": {},
          "execution_count": 154
        }
      ]
    },
    {
      "cell_type": "code",
      "source": [
        "np.mean(a)"
      ],
      "metadata": {
        "colab": {
          "base_uri": "https://localhost:8080/"
        },
        "id": "-RLIRLlCapie",
        "outputId": "e0bd003c-f07f-4ff7-9e82-9ff0abca1b6d"
      },
      "execution_count": 155,
      "outputs": [
        {
          "output_type": "execute_result",
          "data": {
            "text/plain": [
              "3.6666666666666665"
            ]
          },
          "metadata": {},
          "execution_count": 155
        }
      ]
    },
    {
      "cell_type": "code",
      "source": [
        "w1=[1,2,3]"
      ],
      "metadata": {
        "id": "NPMV-7tnat7t"
      },
      "execution_count": 156,
      "outputs": []
    },
    {
      "cell_type": "code",
      "source": [
        "np.average(a,weights=w1,axis=0)"
      ],
      "metadata": {
        "colab": {
          "base_uri": "https://localhost:8080/"
        },
        "id": "scwetVHQasDI",
        "outputId": "c088e82d-fe11-42ab-a1e8-fd2d72f0eb20"
      },
      "execution_count": 158,
      "outputs": [
        {
          "output_type": "execute_result",
          "data": {
            "text/plain": [
              "array([2.66666667, 3.16666667, 4.83333333])"
            ]
          },
          "metadata": {},
          "execution_count": 158
        }
      ]
    },
    {
      "cell_type": "code",
      "source": [
        "np.mean(a,axis=0)"
      ],
      "metadata": {
        "colab": {
          "base_uri": "https://localhost:8080/"
        },
        "id": "gUWb8Q_ibCy0",
        "outputId": "72cb22e8-89c0-452f-c5f3-c0a4bfcf3a10"
      },
      "execution_count": 159,
      "outputs": [
        {
          "output_type": "execute_result",
          "data": {
            "text/plain": [
              "array([2.66666667, 3.33333333, 5.        ])"
            ]
          },
          "metadata": {},
          "execution_count": 159
        }
      ]
    },
    {
      "cell_type": "code",
      "source": [
        "a"
      ],
      "metadata": {
        "colab": {
          "base_uri": "https://localhost:8080/"
        },
        "id": "mOeqx7f6bcwZ",
        "outputId": "3be9272d-65b0-421a-afed-38f5dcb489d6"
      },
      "execution_count": 160,
      "outputs": [
        {
          "output_type": "execute_result",
          "data": {
            "text/plain": [
              "array([[ 2,  3,  3],\n",
              "       [ 4,  5, 10],\n",
              "       [ 2,  2,  2]])"
            ]
          },
          "metadata": {},
          "execution_count": 160
        }
      ]
    },
    {
      "cell_type": "code",
      "source": [
        "np.median(a)"
      ],
      "metadata": {
        "colab": {
          "base_uri": "https://localhost:8080/"
        },
        "id": "-DWelSmfbdtW",
        "outputId": "3988fc49-0d9e-448a-ab94-30a86b6e28d1"
      },
      "execution_count": 161,
      "outputs": [
        {
          "output_type": "execute_result",
          "data": {
            "text/plain": [
              "3.0"
            ]
          },
          "metadata": {},
          "execution_count": 161
        }
      ]
    },
    {
      "cell_type": "code",
      "source": [
        "np.median(a,axis=0)"
      ],
      "metadata": {
        "colab": {
          "base_uri": "https://localhost:8080/"
        },
        "id": "i5P9AmvIbf7o",
        "outputId": "010fb3dd-93bd-4187-ad6b-1da5780ac31f"
      },
      "execution_count": 162,
      "outputs": [
        {
          "output_type": "execute_result",
          "data": {
            "text/plain": [
              "array([2., 3., 3.])"
            ]
          },
          "metadata": {},
          "execution_count": 162
        }
      ]
    },
    {
      "cell_type": "code",
      "source": [
        "np.median(a,axis=1)"
      ],
      "metadata": {
        "colab": {
          "base_uri": "https://localhost:8080/"
        },
        "id": "7r6IbLVtbx3d",
        "outputId": "b67a5a3f-8068-49ec-e1bf-464e855379d8"
      },
      "execution_count": 163,
      "outputs": [
        {
          "output_type": "execute_result",
          "data": {
            "text/plain": [
              "array([3., 5., 2.])"
            ]
          },
          "metadata": {},
          "execution_count": 163
        }
      ]
    },
    {
      "cell_type": "code",
      "source": [
        "np.var(a)"
      ],
      "metadata": {
        "colab": {
          "base_uri": "https://localhost:8080/"
        },
        "id": "WENWQ7mkb04q",
        "outputId": "49b31321-978e-4c84-9caa-666c873bfc5f"
      },
      "execution_count": 164,
      "outputs": [
        {
          "output_type": "execute_result",
          "data": {
            "text/plain": [
              "6.000000000000002"
            ]
          },
          "metadata": {},
          "execution_count": 164
        }
      ]
    },
    {
      "cell_type": "code",
      "source": [
        "np.std(a)"
      ],
      "metadata": {
        "colab": {
          "base_uri": "https://localhost:8080/"
        },
        "id": "RpY7HEIgb-sc",
        "outputId": "8cb41869-b4fe-43d1-b437-5fbed3ee05cd"
      },
      "execution_count": 165,
      "outputs": [
        {
          "output_type": "execute_result",
          "data": {
            "text/plain": [
              "2.4494897427831783"
            ]
          },
          "metadata": {},
          "execution_count": 165
        }
      ]
    },
    {
      "cell_type": "code",
      "source": [
        "a"
      ],
      "metadata": {
        "colab": {
          "base_uri": "https://localhost:8080/"
        },
        "id": "a4HRrRLcgFG5",
        "outputId": "99d39465-77dc-4521-a5a0-448d64ea8ced"
      },
      "execution_count": 167,
      "outputs": [
        {
          "output_type": "execute_result",
          "data": {
            "text/plain": [
              "array([[ 2,  3,  3],\n",
              "       [ 4,  5, 10],\n",
              "       [ 2,  2,  2]])"
            ]
          },
          "metadata": {},
          "execution_count": 167
        }
      ]
    },
    {
      "cell_type": "code",
      "source": [
        "np.sort(a,kind= \"mergesort\")"
      ],
      "metadata": {
        "colab": {
          "base_uri": "https://localhost:8080/"
        },
        "id": "a0UshTLXcBro",
        "outputId": "b4e4670c-c0ff-4691-8daa-a2bfd88792b7"
      },
      "execution_count": 169,
      "outputs": [
        {
          "output_type": "execute_result",
          "data": {
            "text/plain": [
              "array([[ 2,  3,  3],\n",
              "       [ 4,  5, 10],\n",
              "       [ 2,  2,  2]])"
            ]
          },
          "metadata": {},
          "execution_count": 169
        }
      ]
    },
    {
      "cell_type": "code",
      "source": [
        "np.sort(a)"
      ],
      "metadata": {
        "colab": {
          "base_uri": "https://localhost:8080/"
        },
        "id": "3sm12RF-gPT3",
        "outputId": "d37a9ac3-d7cb-46c2-bd21-1bb9cd187d30"
      },
      "execution_count": 170,
      "outputs": [
        {
          "output_type": "execute_result",
          "data": {
            "text/plain": [
              "array([[ 2,  3,  3],\n",
              "       [ 4,  5, 10],\n",
              "       [ 2,  2,  2]])"
            ]
          },
          "metadata": {},
          "execution_count": 170
        }
      ]
    }
  ]
}